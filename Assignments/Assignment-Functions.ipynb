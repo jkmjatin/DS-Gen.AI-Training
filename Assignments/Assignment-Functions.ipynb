{
 "cells": [
  {
   "cell_type": "markdown",
   "id": "27bdfe44-5bd7-436b-a6d0-7f0bc49c2891",
   "metadata": {},
   "source": [
    "# Assignment: Functions\n",
    "Submitted By. Jatin Kumar Mehta\n",
    "<hr>"
   ]
  },
  {
   "cell_type": "markdown",
   "id": "061ff6ef-c0ac-43a8-b7d7-6bf2d4a4292e",
   "metadata": {},
   "source": [
    "### Theory Questions\n",
    "**1. What is the difference between a function and a method in Python?**\n",
    "- Ans: A function is a standalone block of code that performs a specific task. Defined using ```def``` and can be called independently. While a method is a function that belongs to an object (usually a ```class```). It is called on an instance of the class and can access its attributes.\n",
    "\n",
    "<hr>\n",
    "\n",
    "**2. Explain the concept of function arguments and parameters in Python.**\n",
    "- Ans: In Python, parameters are variables listed in a function’s definition, while arguments are the actual values passed to the function when calling it. Parameters act as placeholders for arguments. Eg.\n",
    "- ```python\n",
    "  def say_hi(name='Jatin'):\n",
    "      print(f'Hi {name}!')\n",
    "  say_hi()\n",
    "  say_hi('Aryan')\n",
    "  ```  \n",
    "In the above example, ```name``` is a parameter while ```'Jatin'``` and ```'Aryan'``` are arguments.<hr>\n",
    "\n",
    "**3. What are the different ways to define and call a function in Python?**\n",
    "- Ans: In Python, functions can be defined using the `def` keyword or as lambda functions (anonymous functions) using `lambda`. Functions can be called using positional arguments, keyword arguments, default arguments, or variable-length arguments (`*args` for multiple values and `**kwargs` for key-value pairs).  \n",
    "\n",
    "- **Ways to Define Functions**  \n",
    "1. **Regular Function**  \n",
    "   ```python\n",
    "   def add(a, b):\n",
    "       return a + b\n",
    "   ```\n",
    "\n",
    "2. **Lambda Function**  \n",
    "   ```python\n",
    "   add = lambda a, b: a + b\n",
    "   ```\n",
    "\n",
    "- **Ways to Call Functions**  \n",
    "1. **Positional Arguments**  \n",
    "   ```python\n",
    "   print(add(3, 5))\n",
    "   ```\n",
    "   \n",
    "2. **Keyword Arguments**  \n",
    "   ```python\n",
    "   print(add(a=3, b=5))\n",
    "   ```\n",
    "   \n",
    "3. **Default Arguments**  \n",
    "   ```python\n",
    "   def greet(name, msg=\"Hello\"):\n",
    "       return f\"{msg}, {name}!\"\n",
    "   print(greet(\"Jatin\"))\n",
    "   ```\n",
    "   \n",
    "4. **Variable-Length Arguments (`*args` and `**kwargs`)**  \n",
    "   ```python\n",
    "   def sum_all(*args):\n",
    "       return sum(args)\n",
    "   print(sum_all(1, 2, 3, 4))\n",
    "\n",
    "   def info(**kwargs):\n",
    "       return kwargs\n",
    "   print(info(name=\"Jatin\", age=21))\n",
    "   ```\n",
    "<hr>\n",
    "\n",
    "**4. What is the purpose of the `return` statement in a Python function?**\n",
    "- Ans: The return statement in Python is used to send a value back from a function to the caller. It terminates the function and provides the result. If return is omitted, the function returns None by default.\n",
    "\n",
    "<hr>\n",
    "\n",
    "**5.  What are iterators in Python and how do they differ from iterables?**\n",
    "- Ans: Iterables are objects that can be looped over (e.g., lists, tuples, strings). They have an ```__iter__()``` method that returns an iterator.\n",
    "- Iterators are objects that produce values one at a time using ```__next__()```, without loading everything into memory.\n",
    "\n",
    "<hr>\n",
    "\n",
    "**6.  Explain the concept of generators in Python and how they are defined.**\n",
    "- Ans: Generators in Python are special iterators that yield values one at a time using the yield keyword, making them memory-efficient. Unlike regular functions, generators pause execution at yield and resume from the same point when called again.\n",
    "\n",
    "<hr>\n",
    "\n",
    "**7. What are the advantages of using generators over regular functions?**\n",
    "- Ans: Generators offer several advantages over regular functions:\n",
    "- Memory Efficiency – They generate values on demand instead of storing them in memory.\n",
    "- Faster Execution – No need to create and store large data structures. They yield values one by one.\n",
    "- Lazy Evaluation – Useful for processing large datasets without loading everything at once.\n",
    "- State Retention – They remember their execution state between yield calls.\n",
    "- Simpler Code – Easier to write than manually implementing iterators.\n",
    "\n",
    "<hr>\n",
    "\n",
    "**8. What is a lambda function in Python and when is it typically used?**\n",
    "- Ans: A lambda function in Python is an anonymous, single-expression function defined using the lambda keyword. It is typically used for short, simple operations where defining a full function is unnecessary, such as in sorting, filtering, or mapping data. Since lambda functions are concise and inline, they improve readability in cases where a small function is required temporarily.\n",
    "\n",
    "<hr>\n",
    "\n",
    "**9. Explain the purpose and usage of the `map()` function in Python.**\n",
    "- Ans: The map() function in Python applies a given function to each item in an iterable (e.g., list, tuple) and returns a map object (iterator) with the results. It is useful for transforming data efficiently without using explicit loops.\n",
    "\n",
    "<hr>\n",
    "\n",
    "**10. What is the difference between `map()`, `reduce()`, and `filter()` functions in Python?**\n",
    "- Ans: **`map(func, iterable)`** - Applies `func` to each item in `iterable`, returning a new transformed iterator.  \n",
    "  ```python\n",
    "  print(list(map(lambda x: x * 2, [1, 2, 3])))  # [2, 4, 6]\n",
    "  ```\n",
    "\n",
    "- **`filter(func, iterable)`** - Returns an iterator with items where `func` returns `True`.  \n",
    "  ```python\n",
    "  print(list(filter(lambda x: x % 2 == 0, [1, 2, 3, 4])))  # [2, 4]\n",
    "  ```\n",
    "\n",
    "- **`reduce(func, iterable)`** - Reduces `iterable` to a single value by cumulatively applying `func` (from `functools`).  \n",
    "  ```python\n",
    "  from functools import reduce\n",
    "  print(reduce(lambda x, y: x + y, [1, 2, 3, 4]))  # 10\n",
    "  ```\n",
    "\n",
    "<hr>\n",
    "\n",
    "**11. Using pen & Paper write the internal mechanism for sum operation using reduce function on this given -  list:[47,11,42,13];**\n",
    "<!-- - Ans: ![TheoryAnswer_Q11](./function_assignment-2.jpg) -->\n",
    "- <img src=\"./function_assignment-2.jpg\" width=\"800\" alt=\"TheoryAnswer_Q11\">\n",
    "<hr>\n",
    "\n",
    "### Practical Quesitons"
   ]
  },
  {
   "cell_type": "code",
   "execution_count": 47,
   "id": "a64f66ad-882d-4518-b13d-187967c3532e",
   "metadata": {},
   "outputs": [
    {
     "name": "stdout",
     "output_type": "stream",
     "text": [
      "30\n"
     ]
    }
   ],
   "source": [
    "# 1. Write a Python function that takes a list of numbers as input and returns the sum of all even numbers in the list.\n",
    "\n",
    "def even_sum(*args): # required function\n",
    "    args = list(args)\n",
    "    a = 0\n",
    "    for i in args:\n",
    "        if i%2 == 0:\n",
    "            a += i\n",
    "    return a\n",
    "\n",
    "# passing input to the 'required function'\n",
    "print(even_sum(1,2,3,4,5,6,7,8,9,10))"
   ]
  },
  {
   "cell_type": "code",
   "execution_count": 49,
   "id": "f7c10373-389f-431b-aff9-4042d7d65c8a",
   "metadata": {},
   "outputs": [
    {
     "data": {
      "text/plain": [
       "'WOLLEY'"
      ]
     },
     "execution_count": 49,
     "metadata": {},
     "output_type": "execute_result"
    }
   ],
   "source": [
    "# 2. Create a Python function that accepts a string and returns the reverse of that string.\n",
    "\n",
    "def str_rev(text):\n",
    "    return text[::-1]\n",
    "\n",
    "str_rev('YELLOW')"
   ]
  },
  {
   "cell_type": "code",
   "execution_count": 55,
   "id": "e60726a5-6783-4f62-bc93-e19f4603b96f",
   "metadata": {},
   "outputs": [
    {
     "data": {
      "text/plain": [
       "[1, 4, 9, 16, 25]"
      ]
     },
     "execution_count": 55,
     "metadata": {},
     "output_type": "execute_result"
    }
   ],
   "source": [
    "# 3. Implement a Python function that takes a list of integers and returns a new list containing the squares of each number.\n",
    "\n",
    "def sq_list(*arg):\n",
    "    new_list = []\n",
    "    for i in list(arg):\n",
    "        new_list.append(i**2)\n",
    "    return new_list\n",
    "\n",
    "sq_list(1,2,3,4,5)"
   ]
  },
  {
   "cell_type": "code",
   "execution_count": 97,
   "id": "b67df10d-f06c-4769-a852-ae8c41b7cc7e",
   "metadata": {},
   "outputs": [
    {
     "name": "stdout",
     "output_type": "stream",
     "text": [
      "[2, 3, 5, 7, 11, 13, 17, 19, 23, 29, 31, 37, 41, 43, 47, 53, 59, 61, 67, 71, 73, 79, 83, 89, 97, 101, 103, 107, 109, 113, 127, 131, 137, 139, 149, 151, 157, 163, 167, 173, 179, 181, 191, 193, 197, 199]\n"
     ]
    }
   ],
   "source": [
    "# 4. Write a Python function that checks if a given number is prime or not from 1 to 200.\n",
    "\n",
    "def is_prime(n):\n",
    "    if n < 2:\n",
    "        return False  # 0 and 1 are not prime\n",
    "    for i in range(2, int(n**0.5) + 1):  # Check divisibility up to sqrt(n)\n",
    "        if n % i == 0:\n",
    "            return False\n",
    "    return True\n",
    "\n",
    "primes = [n for n in range(1, 201) if is_prime(n)]\n",
    "print(primes)"
   ]
  },
  {
   "cell_type": "code",
   "execution_count": 111,
   "id": "1bf58f17-649f-4b1d-aaf7-04a361036e0f",
   "metadata": {},
   "outputs": [],
   "source": [
    "# 5.  Create an iterator class in Python that generates the Fibonacci sequence up to a specified number of terms.\n",
    "# Ans: I am unable to solve this problem. I guess 'Class' topic has not been covered in the modules so far (Module 5)."
   ]
  },
  {
   "cell_type": "code",
   "execution_count": 63,
   "id": "333576d5-6e0d-4657-8908-055e347a3cbc",
   "metadata": {},
   "outputs": [
    {
     "data": {
      "text/plain": [
       "[1, 2, 4, 8, 16, 32, 64, 128, 256, 512, 1024]"
      ]
     },
     "execution_count": 63,
     "metadata": {},
     "output_type": "execute_result"
    }
   ],
   "source": [
    "# 6. Write a generator function in Python that yields the powers of 2 up to a given exponent.\n",
    "\n",
    "def power_2(n):\n",
    "    for i in range(n+1):\n",
    "        yield 2**i\n",
    "\n",
    "list(power_2(10))"
   ]
  },
  {
   "cell_type": "code",
   "execution_count": 103,
   "id": "141ad700-26b1-423f-8146-cd4bca50d1a3",
   "metadata": {},
   "outputs": [
    {
     "name": "stdout",
     "output_type": "stream",
     "text": [
      "Line 1: Jatin\n",
      "Line 2: Kumar\n",
      "Line 3: Mehta\n"
     ]
    }
   ],
   "source": [
    "# 7. Implement a generator function that reads a file line by line and yields each line as a string.\n",
    "\n",
    "def read_line_by_line(lines):\n",
    "    for line in lines:\n",
    "        yield line  # Yield each line one by one\n",
    "\n",
    "# Example usage:\n",
    "data = [\"Line 1: Jatin\", \"Line 2: Kumar\", \"Line 3: Mehta\"]\n",
    "for line in read_line_by_line(data):\n",
    "    print(line)"
   ]
  },
  {
   "cell_type": "code",
   "execution_count": 105,
   "id": "b24cc652-a4c3-4425-9ce4-6e84d7e8b79e",
   "metadata": {},
   "outputs": [
    {
     "name": "stdout",
     "output_type": "stream",
     "text": [
      "[(1, 2), (3, 4), (9, 5), (5, 6), (7, 8)]\n"
     ]
    }
   ],
   "source": [
    "# 8.  Use a lambda function in Python to sort a list of tuples based on the second element of each tuple.\n",
    "\n",
    "tuple_list = [(1,2), (3,4), (5,6), (7,8), (9,5)]\n",
    "sorted_list = sorted(tuple_list, key=lambda x: x[1])\n",
    "print(sorted_list)"
   ]
  },
  {
   "cell_type": "code",
   "execution_count": 107,
   "id": "7718e893-0386-41af-88bc-94940cd8a225",
   "metadata": {},
   "outputs": [
    {
     "name": "stdout",
     "output_type": "stream",
     "text": [
      "[32.0, 68.0, 98.6, 212.0]\n"
     ]
    }
   ],
   "source": [
    "# 9. Write a Python program that uses `map()` to convert a list of temperatures from Celsius to Fahrenheit.\n",
    "\n",
    "celsius_to_fahrenheit = lambda c: (c * 9/5) + 32\n",
    "celsius_temps = [0, 20, 37, 100]\n",
    "farenheit_temps = list(map(celsius_to_fahrenheit, celsius_temps))\n",
    "print(farenheit_temps)"
   ]
  },
  {
   "cell_type": "code",
   "execution_count": 109,
   "id": "8b977ac8-0e96-4d08-9352-b5e78faf3732",
   "metadata": {},
   "outputs": [
    {
     "name": "stdout",
     "output_type": "stream",
     "text": [
      "Brwn Fx\n"
     ]
    }
   ],
   "source": [
    "# 10. Create a Python program that uses `filter()` to remove all the vowels from a given string.\n",
    "\n",
    "not_vowel = lambda char: char.lower() not in 'aeiou'\n",
    "text = 'Brown Fox'\n",
    "filtered_text = ''.join(filter(not_vowel, text))\n",
    "print(filtered_text)"
   ]
  },
  {
   "cell_type": "markdown",
   "id": "4afffae2-1952-42a3-89b6-d39e4fd98518",
   "metadata": {},
   "source": [
    "**11.  Imagine an accounting routine used in a book shop. It works on a list with sublists, which look like this:**\n",
    "![image](./function_assignment.png)\n",
    "Write a Python program, which returns a list with 2-tuples. Each tuple consists of the order number and the \n",
    "product of the price per item and the quantity. The product should be increased by 10,- € if the value of the \n",
    "order is smaller than 100,00 €.  \n",
    "**Write a Python program using lambda and map**"
   ]
  },
  {
   "cell_type": "code",
   "execution_count": 113,
   "id": "4460ddb2-bf93-452c-a190-83cd9c52f751",
   "metadata": {},
   "outputs": [
    {
     "name": "stdout",
     "output_type": "stream",
     "text": [
      "[(34587, 163.8), (98762, 284.0), (77226, 108.85000000000001), (88112, 84.97)]\n"
     ]
    }
   ],
   "source": [
    "# Answer for Q.11\n",
    "\n",
    "orders = [\n",
    "    (34587, \"Learning Python, Mark Lutz\", 4, 40.95),\n",
    "    (98762, \"Programming Python, Mark Lutz\", 5, 56.80),\n",
    "    (77226, \"Head First Python, Paul Barry\", 3, 32.95),\n",
    "    (88112, \"Einführung in Python3, Bernd Klein\", 3, 24.99)\n",
    "]\n",
    "\n",
    "order_totals = list(map(lambda x: (x[0], x[2]*x[3] + (10 if x[2]*x[3] < 100 else 0)), orders))\n",
    "print(order_totals)"
   ]
  }
 ],
 "metadata": {
  "kernelspec": {
   "display_name": "Python 3 (ipykernel)",
   "language": "python",
   "name": "python3"
  },
  "language_info": {
   "codemirror_mode": {
    "name": "ipython",
    "version": 3
   },
   "file_extension": ".py",
   "mimetype": "text/x-python",
   "name": "python",
   "nbconvert_exporter": "python",
   "pygments_lexer": "ipython3",
   "version": "3.12.7"
  }
 },
 "nbformat": 4,
 "nbformat_minor": 5
}
