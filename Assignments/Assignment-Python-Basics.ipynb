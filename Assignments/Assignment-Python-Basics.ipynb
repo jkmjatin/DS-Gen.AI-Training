{
 "cells": [
  {
   "cell_type": "markdown",
   "id": "bb6e2e55-dfde-43bf-83ac-b9c6b71a269a",
   "metadata": {},
   "source": [
    "# Assignment: Python Basics\n",
    "Submitted By: Jatin Kumar Mehta\n",
    "<hr>"
   ]
  },
  {
   "cell_type": "markdown",
   "id": "4593424f-14ff-4e3b-ad9d-5d8c69cf3f59",
   "metadata": {},
   "source": [
    "### <u>Theory Questions</u>\n",
    "\n",
    "**1.What is Python, and why is it popular?**\n",
    "- **Ans:** Python is a high-level, interpreted programming language known for its simplicity and readability. Python is dynamically typed and supports multiple programming paradigms, like object-oriented, procedural, etc.  \n",
    "1. Easy to Learn & Readable - Python uses simple and easy syntax.  \n",
    "2. Versatile & Multi-Purpose - Can be used for web development, data science, AI/ML, automation, game development, cybersecurity, etc.  \n",
    "3. Extensive Libraries & Frameworks - Python has powerful libraries like NumPy, Pandas, TensorFlow, OpenCV, etc., which help in reducing development time.  \n",
    "4. Community Support - A large global community means extensive documentation, tutorials, and third-party support.  \n",
    "5. Platform Independent - Python is cross-platform, meaning it can runs on different OSs without modification.  \n",
    "6. Automation & Scripting - Python is widely used for scripting tasks like web scraping, data automation, and system administration.  \n",
    "7. Strong AI & Data Science Adoption - Python dominates AI, machine learning, and data science due to libraries like TensorFlow, PyTorch, etc.  \n",
    "8. High Demand in the Industry - Companies like Google, Facebook, Netflix, and NASA use Python for various applications.\n",
    "\n",
    "**2. What is an interpreter in Python?**\n",
    "- **Ans:** An interpreter in Python is a program that executes Python code line by line rather than compiling the entire code at once. It converts Python code into machine-readable instructions at runtime.\n",
    "\n",
    "**3. What are pre-defined keywords in Python?**\n",
    "- **Ans:** Pre-defined keywords in Python are reserved words that have special meanings and cannot be used as variable names, function names, or identifiers. Python has 35+ reserved keywords, that are case-sensitive.  \n",
    "\n",
    "**4. Can keywords be used as variable names?**\n",
    "- **Ans:** No, keywords can not be used as variable names. They have certain meaning pre-defined in the system and will result in an error upon the execution of the program.  \n",
    "\n",
    "**5. What is mutability in Python?**\n",
    "- **Ans:** Mutability in Python refers to whether an object can be changed (modified) after its creation.  \n",
    "Mutable objects - Can be modified after creation. Example, List and Dictionary  \n",
    "Immutable objects - Cannot be modified once created. Example, String and Tuple\n",
    "\n",
    "**6. Why are lists mutable, but tuples are immutable?**\n",
    "- **Ans:** Lists are mutable because they are designed for dynamic collections where elements can be modified, added, or removed, making them flexible but slightly slower. Tuples, on the other hand, are immutable because they are meant for fixed collections, ensuring stability, and memory efficiency. This immutability also improves performance and security by preventing accidental modifications.\n",
    "\n",
    "**7. What is the difference between “==” and “is” operators in Python?**\n",
    "- **Ans:** The '==' operator checks if two variables have the same value, while the 'is' operator checks if they refer to the same object in memory. For example, two lists with identical elements will return 'True' with '==', but 'False' with 'is' because they are stored at different memory locations. However, if one variable is assigned directly to another ('a = b'), 'is' will return 'True' since both now point to the same object.\n",
    "\n",
    "**8. What are logical operators in Python?**\n",
    "- **Ans:** Logical operators in Python are used to combine conditional statements and return 'True' or 'False' based on logical conditions. The three main logical operators are 'and', 'or', and 'not'. The 'and' operator returns 'True' only if both conditions are 'True', while 'or' returns 'True' if at least one condition is 'True'. The 'not' operator negates a condition, returning 'True' if the condition is 'False' and vice versa. For example, (5 > 3 and 10 > 5) returns 'True', while 'not (5 > 10)' also returns 'True'.\n",
    "\n",
    "**9. What is type casting in Python?**\n",
    "- **Ans:** Type casting in Python is the process of converting one data type into another. This is of two types, implicitly (automatically by Python) or explicitly (manually by the programmer).\n",
    "\n",
    "**10. What is the difference between implicit and explicit type casting?**\n",
    "- **Ans:**  Implicit casting occurs when Python automatically converts a data type to another data type, like an 'int' to a 'float'. Explicit casting is done using functions like 'int()', 'float()', 'str()', etc., allowing manual conversion when needed. For example, 'int(\"10\")' converts a string to an integer.  \n",
    "\n",
    "**11. What is the purpose of conditional statements in Python?**\n",
    "- **Ans:** Conditional statements in Python are used to make decisions in a program by executing different code blocks based on conditions. They include 'if', 'elif', and 'else', allowing the program to perform specific actions when certain conditions are met. For example, an 'if' statement runs a block of code only if the condition is 'True', while 'elif' and 'else' provide additional decision-making paths. This helps in creating dynamic and interactive programs.\n",
    "\n",
    "**12. How does the elif statement work?**\n",
    "- **Ans:** The 'elif' statement in Python is used for multiple conditional checks after an `if` statement. If the 'if' condition is 'False', Python checks the 'elif' conditions one by one. If an 'elif' condition is 'True', its block executes, and the rest are skipped. If none of the 'if' or 'elif' conditions are 'True', the 'else' block runs.\n",
    "\n",
    "**13. What is the difference between for and while loops?**\n",
    "- **Ans:** In Python, a 'for' loop is used when the number of iterations is known or when iterating over a sequence like a list, tuple, or range. It automatically goes through each element. In contrast, a 'while' loop runs as long as a given condition remains 'True', making it useful when the number of iterations is unknown.\n",
    "\n",
    "**14. Describe a scenario where a while loop is more suitable than a for loop?**\n",
    "- **Ans:** A 'while' loop is more suitable when the number of iterations is unknown and depends on a condition. For example, in a login system, a user should be asked to enter the correct password until they get it right. Since the number of attempts isn’t fixed, a 'while' loop is ideal. Consider the following example:  \n",
    "\n",
    "```python\n",
    "password = \"pass123\"\n",
    "user_input = \"\"\n",
    "while user_input != password:\n",
    "    user_input = input(\"Enter password: \")\n",
    "print(\"Access granted!\")\n",
    "```"
   ]
  },
  {
   "cell_type": "markdown",
   "id": "2c7cfd7d-424b-4adc-bcd9-58426d4beb32",
   "metadata": {},
   "source": [
    "### <u>Practical Questions</u>"
   ]
  },
  {
   "cell_type": "code",
   "execution_count": 1,
   "id": "3580e111-bbbd-46b1-b6b7-43e40092ce93",
   "metadata": {},
   "outputs": [
    {
     "name": "stdout",
     "output_type": "stream",
     "text": [
      "Hello World\n"
     ]
    }
   ],
   "source": [
    "# 1. Write a Python program to print \"Hello, World!\"\n",
    "print('Hello World')"
   ]
  },
  {
   "cell_type": "code",
   "execution_count": 3,
   "id": "1960bcae-0df4-4763-8192-460b4cf5fe5b",
   "metadata": {},
   "outputs": [
    {
     "name": "stdout",
     "output_type": "stream",
     "text": [
      "Jatin Kumar Mehta is 21 years old.\n"
     ]
    }
   ],
   "source": [
    "# 2. Write a Python program that displays your name and age.\n",
    "name, age = 'Jatin Kumar Mehta',21\n",
    "print(f'{name} is {age} years old.')"
   ]
  },
  {
   "cell_type": "code",
   "execution_count": 5,
   "id": "fb9da905-4827-4bd6-aee1-3f29eb4c935a",
   "metadata": {},
   "outputs": [
    {
     "name": "stdout",
     "output_type": "stream",
     "text": [
      "\n",
      "Here is a list of the Python keywords.  Enter any keyword to get more help.\n",
      "\n",
      "False               class               from                or\n",
      "None                continue            global              pass\n",
      "True                def                 if                  raise\n",
      "and                 del                 import              return\n",
      "as                  elif                in                  try\n",
      "assert              else                is                  while\n",
      "async               except              lambda              with\n",
      "await               finally             nonlocal            yield\n",
      "break               for                 not                 \n",
      "\n",
      "None\n"
     ]
    }
   ],
   "source": [
    "# 3. Write code to print all the pre-defined keywords in Python using the keyword library.\n",
    "print(help('keywords'))"
   ]
  },
  {
   "cell_type": "code",
   "execution_count": 9,
   "id": "dc2e3268-b6f8-4dbf-ad33-42bd48d3022b",
   "metadata": {},
   "outputs": [
    {
     "name": "stdin",
     "output_type": "stream",
     "text": [
      "Enter a word:  import\n"
     ]
    },
    {
     "name": "stdout",
     "output_type": "stream",
     "text": [
      "'import' is a Python keyword.\n"
     ]
    }
   ],
   "source": [
    "# 4. Write a program that checks if a given word is a Python keyword.\n",
    "\n",
    "import keyword\n",
    "\n",
    "word = input(\"Enter a word: \")\n",
    "if keyword.iskeyword(word):\n",
    "    print(f\"'{word}' is a Python keyword.\")\n",
    "else:\n",
    "    print(f\"'{word}' is NOT a Python keyword.\")"
   ]
  },
  {
   "cell_type": "code",
   "execution_count": 11,
   "id": "8b6d398b-c184-4af1-8fc0-fedc629336bd",
   "metadata": {},
   "outputs": [
    {
     "name": "stdout",
     "output_type": "stream",
     "text": [
      "Original List [1, 2, 3, 4]\n",
      "Updated List [1, 2, 6, 4]\n"
     ]
    }
   ],
   "source": [
    "# 5. Create a list and tuple in Python, and demonstrate how attempting to change an element works differently for each.\n",
    "\n",
    "my_list = [1,2,3,4]\n",
    "print('Original List', my_list)\n",
    "my_list[2] = 6\n",
    "print('Updated List', my_list)"
   ]
  },
  {
   "cell_type": "code",
   "execution_count": 13,
   "id": "fa3a40ea-c6b2-45e0-bc2f-63760b8e1d75",
   "metadata": {},
   "outputs": [
    {
     "name": "stdout",
     "output_type": "stream",
     "text": [
      "Original Tuple (1, 2, 3, 4)\n"
     ]
    },
    {
     "ename": "TypeError",
     "evalue": "'tuple' object does not support item assignment",
     "output_type": "error",
     "traceback": [
      "\u001b[1;31m---------------------------------------------------------------------------\u001b[0m",
      "\u001b[1;31mTypeError\u001b[0m                                 Traceback (most recent call last)",
      "Cell \u001b[1;32mIn[13], line 3\u001b[0m\n\u001b[0;32m      1\u001b[0m my_tuple \u001b[38;5;241m=\u001b[39m (\u001b[38;5;241m1\u001b[39m,\u001b[38;5;241m2\u001b[39m,\u001b[38;5;241m3\u001b[39m,\u001b[38;5;241m4\u001b[39m)\n\u001b[0;32m      2\u001b[0m \u001b[38;5;28mprint\u001b[39m(\u001b[38;5;124m'\u001b[39m\u001b[38;5;124mOriginal Tuple\u001b[39m\u001b[38;5;124m'\u001b[39m, my_tuple)\n\u001b[1;32m----> 3\u001b[0m my_tuple[\u001b[38;5;241m2\u001b[39m] \u001b[38;5;241m=\u001b[39m \u001b[38;5;241m6\u001b[39m\n\u001b[0;32m      4\u001b[0m \u001b[38;5;28mprint\u001b[39m(\u001b[38;5;124m'\u001b[39m\u001b[38;5;124mUpdated Tuple\u001b[39m\u001b[38;5;124m'\u001b[39m, my_tuple)\n",
      "\u001b[1;31mTypeError\u001b[0m: 'tuple' object does not support item assignment"
     ]
    }
   ],
   "source": [
    "my_tuple = (1,2,3,4)\n",
    "print('Original Tuple', my_tuple)\n",
    "my_tuple[2] = 6\n",
    "print('Updated Tuple', my_tuple)"
   ]
  },
  {
   "cell_type": "code",
   "execution_count": 15,
   "id": "f6c4861e-a25b-439b-948e-024db1e783c5",
   "metadata": {},
   "outputs": [
    {
     "name": "stdout",
     "output_type": "stream",
     "text": [
      "Inside function (immutable): 60\n",
      "Inside function (mutable): [1, 2, 3, 100]\n",
      "Outside function (immutable): 50\n",
      "Outside function (mutable): [1, 2, 3, 100]\n"
     ]
    }
   ],
   "source": [
    "# 6. Write a function to demonstrate the behavior of mutable and immutable arguments.\n",
    "\n",
    "def modify_arguments(immutable_arg, mutable_arg):\n",
    "    immutable_arg += 10  \n",
    "    print(\"Inside function (immutable):\", immutable_arg)\n",
    "\n",
    "    mutable_arg.append(100)  \n",
    "    print(\"Inside function (mutable):\", mutable_arg)\n",
    "\n",
    "num = 50 # immutable\n",
    "my_list = [1, 2, 3] # mutable\n",
    "\n",
    "modify_arguments(num, my_list)\n",
    "\n",
    "print(\"Outside function (immutable):\", num)  # Unchanged\n",
    "print(\"Outside function (mutable):\", my_list)  # Changed"
   ]
  },
  {
   "cell_type": "code",
   "execution_count": 17,
   "id": "c49b954f-6e38-46d9-83f4-a7e46c6123ec",
   "metadata": {},
   "outputs": [
    {
     "name": "stdin",
     "output_type": "stream",
     "text": [
      "Enter Number 1:  10\n",
      "Enter Number 2:  8\n"
     ]
    },
    {
     "name": "stdout",
     "output_type": "stream",
     "text": [
      "\n",
      "Addition 18\n",
      "Substraction 2\n",
      "Multiplication 80\n",
      "Exponent 100000000\n",
      "Division 1.25\n",
      "Floor Division 1\n"
     ]
    }
   ],
   "source": [
    "# 7. Write a program that performs basic arithmetic operations on two user-input numbers.\n",
    "\n",
    "n1 = int(input('Enter Number 1: '))\n",
    "n2 = int(input('Enter Number 2: '))\n",
    "\n",
    "print(f'\\nAddition {n1+n2}')\n",
    "print(f'Substraction {n1-n2}')\n",
    "print(f'Multiplication {n1*n2}')\n",
    "print(f'Exponent {n1**n2}')\n",
    "print(f'Division {n1/n2}')\n",
    "print(f'Floor Division {n1//n2}')"
   ]
  },
  {
   "cell_type": "code",
   "execution_count": 19,
   "id": "ad135023-87fb-47c9-81c2-d5861c2c1993",
   "metadata": {},
   "outputs": [
    {
     "name": "stdin",
     "output_type": "stream",
     "text": [
      "Enter your age:  21\n",
      "Do you have an ID? (yes/no):  yes\n"
     ]
    },
    {
     "name": "stdout",
     "output_type": "stream",
     "text": [
      "You are eligible to vote.\n"
     ]
    }
   ],
   "source": [
    "# 8. Write a program to demonstrate the use of logical operators.\n",
    "\n",
    "age = int(input(\"Enter your age: \"))\n",
    "has_id = input(\"Do you have an ID? (yes/no): \").lower() == \"yes\"\n",
    "\n",
    "if age >= 18 and has_id:\n",
    "    print(\"You are eligible to vote.\")\n",
    "elif age < 18 or not has_id:\n",
    "    print(\"You are NOT eligible to vote.\")\n",
    "else:\n",
    "    print(\"Invalid input.\")"
   ]
  },
  {
   "cell_type": "code",
   "execution_count": 21,
   "id": "ff0c8a72-024a-45a9-920d-ab0e40ff45a2",
   "metadata": {},
   "outputs": [
    {
     "name": "stdin",
     "output_type": "stream",
     "text": [
      "Enter a number: 123\n"
     ]
    },
    {
     "name": "stdout",
     "output_type": "stream",
     "text": [
      "Original Value 123 <class 'str'> \n",
      "\n",
      "123 <class 'int'>\n",
      "123.0 <class 'float'>\n",
      "True <class 'bool'>\n"
     ]
    }
   ],
   "source": [
    "# 9. Write a Python program to convert user input from string to integer, float, and boolean types.\n",
    "\n",
    "value = input('Enter a number:')\n",
    "\n",
    "value_int = int(value)\n",
    "value_float = float(value)\n",
    "value_bool = bool(value)\n",
    "\n",
    "print('Original Value', value, type(value),'\\n')\n",
    "print(value_int, type(value_int))\n",
    "print(value_float, type(value_float))\n",
    "print(value_bool, type(value_bool))"
   ]
  },
  {
   "cell_type": "code",
   "execution_count": 27,
   "id": "d9a84b7f-cde2-4fba-8b5f-9c20ebd8a7fa",
   "metadata": {},
   "outputs": [
    {
     "name": "stdout",
     "output_type": "stream",
     "text": [
      "Original List: [20, '40', 80.0, True]\n",
      "Casted List: [20, 40, 80, 1]\n"
     ]
    }
   ],
   "source": [
    "# 10. Write code to demonstrate type casting with list elements.\n",
    "\n",
    "mixed_list = [20, '40', 80.0, True]\n",
    "casted_list = []\n",
    "print(f'Original List: {mixed_list}')\n",
    "\n",
    "# Type Casting above list to integer data type\n",
    "for i in mixed_list:\n",
    "    casted_list.append(int(i))\n",
    "    \n",
    "print(f'Casted List: {casted_list}')"
   ]
  },
  {
   "cell_type": "code",
   "execution_count": 29,
   "id": "3c1c8f98-0e54-4b18-a319-5dda182ce260",
   "metadata": {},
   "outputs": [
    {
     "name": "stdin",
     "output_type": "stream",
     "text": [
      "Enter a number:  38\n"
     ]
    },
    {
     "name": "stdout",
     "output_type": "stream",
     "text": [
      "Positive\n"
     ]
    }
   ],
   "source": [
    "# 11. Write a program that checks if a number is positive, negative, or zero.\n",
    "\n",
    "user_input = int(input('Enter a number: '))\n",
    "\n",
    "if user_input > 0:\n",
    "    print('Positive')\n",
    "elif user_input == 0:\n",
    "    print('Zero')\n",
    "else:\n",
    "    print('Negative')"
   ]
  },
  {
   "cell_type": "code",
   "execution_count": 31,
   "id": "62461e17-d69d-497d-8483-b1d01f7ee9a7",
   "metadata": {},
   "outputs": [
    {
     "name": "stdout",
     "output_type": "stream",
     "text": [
      "1 2 3 4 5 6 7 8 9 10 "
     ]
    }
   ],
   "source": [
    "# 12. Write a for loop to print numbers from 1 to 10.\n",
    "\n",
    "for i in range(1,11):\n",
    "    print(i, end=' ')"
   ]
  },
  {
   "cell_type": "code",
   "execution_count": 33,
   "id": "d591226c-45d4-4c77-97ec-9bb3650cf0bb",
   "metadata": {},
   "outputs": [
    {
     "name": "stdout",
     "output_type": "stream",
     "text": [
      "Sum of all even numbers between 1 and 50 is: 650\n"
     ]
    }
   ],
   "source": [
    "# 13. Write a Python program to find the sum of all even numbers between 1 and 50.\n",
    "\n",
    "sum_even = 0\n",
    "\n",
    "for i in range(2, 51, 2):\n",
    "    sum_even += i\n",
    "    \n",
    "print(f'Sum of all even numbers between 1 and 50 is: {sum_even}')"
   ]
  },
  {
   "cell_type": "code",
   "execution_count": 35,
   "id": "ba60ef55-6052-4a70-b65d-6fb3598e8ddc",
   "metadata": {},
   "outputs": [
    {
     "name": "stdout",
     "output_type": "stream",
     "text": [
      "olleH"
     ]
    }
   ],
   "source": [
    "# 14. Write a program to reverse a string using a while loop.\n",
    "\n",
    "text = 'Hello'\n",
    "i = len(text) - 1\n",
    "\n",
    "while i >= 0:\n",
    "    print(text[i], end='')\n",
    "    i -= 1"
   ]
  },
  {
   "cell_type": "code",
   "execution_count": 13,
   "id": "d81a8c80-4d30-453e-932e-8ad65dcc6a88",
   "metadata": {},
   "outputs": [
    {
     "name": "stdin",
     "output_type": "stream",
     "text": [
      "Enter a number:  10\n"
     ]
    },
    {
     "name": "stdout",
     "output_type": "stream",
     "text": [
      "Factorial of 10 is 3628800\n"
     ]
    }
   ],
   "source": [
    "# 15. Write a Python program to calculate the factorial of a number provided by the user using a while loop.\n",
    "\n",
    "num = int(input(\"Enter a number: \"))\n",
    "\n",
    "fact, i = 1, num\n",
    "\n",
    "while i > 1:\n",
    "    fact *= i\n",
    "    i -= 1\n",
    "\n",
    "print(f\"Factorial of {num} is {fact}\")\n"
   ]
  },
  {
   "cell_type": "code",
   "execution_count": null,
   "id": "5c582cf3-c7ea-407d-9d0b-3c0a4d6a18cd",
   "metadata": {},
   "outputs": [],
   "source": []
  }
 ],
 "metadata": {
  "kernelspec": {
   "display_name": "Python 3 (ipykernel)",
   "language": "python",
   "name": "python3"
  },
  "language_info": {
   "codemirror_mode": {
    "name": "ipython",
    "version": 3
   },
   "file_extension": ".py",
   "mimetype": "text/x-python",
   "name": "python",
   "nbconvert_exporter": "python",
   "pygments_lexer": "ipython3",
   "version": "3.12.7"
  }
 },
 "nbformat": 4,
 "nbformat_minor": 5
}
