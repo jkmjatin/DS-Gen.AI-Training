{
 "cells": [
  {
   "cell_type": "markdown",
   "id": "4c6f0641-612d-45a6-8bef-d5ef251e1809",
   "metadata": {},
   "source": [
    "# Assignment: Files, Exceptional Handling, Logging and Memory Management\n",
    "Submitted by: Jatin Kumar Mehta"
   ]
  },
  {
   "cell_type": "markdown",
   "id": "0af32c84-b8ae-42be-a3a4-3b9c81657c08",
   "metadata": {},
   "source": [
    "<hr>\n",
    "\n",
    "### Theoretical Questions\n",
    "\n",
    "**1. What is the difference between interpreted and compiled languages?**  \n",
    "- Ans: Compiled languages (like C, C++): Code is translated into machine code before execution by a compiler. It's faster but needs compilation every time you change the code.\n",
    "- Interpreted languages (like Python, JavaScript): Code is executed line by line by an interpreter during runtime. It's slower but easier to test and debug quickly.  \n",
    "\n",
    "**2. What is exception handling in Python?**\n",
    "- Ans: Exception handling in Python is a way to manage errors using ```try```, ```except```, ```else```, and ```finally``` blocks to prevent program crashes and handle problems gracefully.  \n",
    "\n",
    "**3. What is the purpose of the finally block in exception handling?**\n",
    "- Ans: The ```finally``` block is used to run code no matter what — whether an exception occurs or not. It's often used for cleanup actions like closing files or releasing resources.  \n",
    "\n",
    "**4.  What is logging in Python?**\n",
    "- Ans: Logging in Python is a way to track events that happen when your code runs. It helps in debugging and monitoring by recording messages like errors, warnings, or info using the built-in ```logging``` module.  \n",
    "\n",
    "**5.  What is the significance of the ```__del__``` method in Python?**\n",
    "- Ans: The ```__del__``` method in Python is a destructor. It’s called automatically when an object is about to be destroyed, typically used to clean up resources like closing files or network connections.  \n",
    "\n",
    "**6. What is the difference between import and from ... import in Python?**\n",
    "- Ans: ```import module``` -> Imports the whole module. You access functions like: ```module.function()```\n",
    "- ```from module import function``` -> Imports specific items directly. You can use: ```function()``` without the module prefix.  \n",
    "\n",
    "**7. How can you handle multiple exceptions in Python?**\n",
    "- Ans: You can handle multiple exceptions using:\n",
    "  ```python\n",
    "      try:\n",
    "        except (TypeError, ValueError) as e:\n",
    "        # handle both exceptions\n",
    "  ```\n",
    "Or use multiple except blocks:\n",
    "  ```python\n",
    "    try:\n",
    "        except TypeError:\n",
    "        # handle TypeError\n",
    "        except ValueError:\n",
    "        # handle ValueError\n",
    "  ```\n",
    "\n",
    "**8. What is the purpose of the with statement when handling files in Python?**\n",
    "- Ans: The with statement is used to open files safely. It automatically closes the file after the block, even if an error occurs, so you don’t need to call ```close()``` manually.\n",
    "    ```python\n",
    "        with open(\"file.txt\", \"r\") as f:\n",
    "        data = f.read()\n",
    "    ```\n",
    "\n",
    "**9. What is the difference between multithreading and multiprocessing?**\n",
    "- Ans: Multithreading: Multiple threads run in the same process, sharing memory. Good for I/O-bound tasks. Multiprocessing: Multiple processes run independently with separate memory. Better for CPU-bound tasks.  \n",
    "\n",
    "**10. What are the advantages of using logging in a program?**\n",
    "- Ans: In short, advantages of using logging: Tracks errors and events for debugging, monitors program flow in real-time or later, saves logs to files for analysis, more flexible than ```print()``` (supports levels like info, warning, error), helps in maintaining and troubleshooting production code.  \n",
    "\n",
    "**11. What is memory management in Python?**\n",
    "- Ans: Memory management in Python involves automatically handling memory allocation and deallocation. Python uses:\n",
    "- Automatic garbage collection to remove unused objects.\n",
    "- Reference counting to track object references and free memory when it's no longer needed.\n",
    "- This reduces the need for manual memory management, making development easier.\n",
    "\n",
    "\n",
    "**12. What are the basic steps involved in exception handling in Python?**\n",
    "- Ans: In short, the basic steps in exception handling in Python:\n",
    "- try block: Place code that may raise an exception.\n",
    "- except block: Catch and handle specific exceptions.\n",
    "- else block (optional): Execute if no exception occurs.\n",
    "- finally block (optional): Always execute, used for cleanup.  \n",
    "\n",
    "**13. Why is memory management important in Python?**\n",
    "- Ans: Memory management is important in Python because it:\n",
    "- Optimizes resource usage preventing memory leaks.\n",
    "- Ensures that unused memory is automatically freed, improving performance.\n",
    "- Helps avoid crashes and slowdowns in large programs.\n",
    "\n",
    "**14. What is the role of try and except in exception handling?**\n",
    "- Ans: ```try```: Contains code that may raise an exception.\n",
    "- ```except```: Catches and handles the exception if it occurs, preventing the program from crashing.  \n",
    "\n",
    "**15. How does Python's garbage collection system work?**\n",
    "- Ans: Python’s garbage collection uses reference counting and a cyclic garbage collector:\n",
    "- Reference counting: Each object has a counter that tracks how many references point to it. When the count reaches zero, the object is automatically deleted.\n",
    "- Cyclic garbage collector: Detects and removes reference cycles (objects referring to each other) that the reference count can't handle.  \n",
    "\n",
    "**16. What is the purpose of the else block in exception handling?**\n",
    "- Ans: The ```else``` block in exception handling runs only if no exception occurs in the ```try``` block. It allows you to execute code that should only run when the try block is successful, without errors.  \n",
    "\n",
    "**17.  What are the common logging levels in Python?**\n",
    "- Ans: In short, the common logging levels in Python are:\n",
    "- DEBUG: Detailed information, useful for diagnosing problems.\n",
    "- INFO: General information about program execution.\n",
    "- WARNING: Indicates something unexpected, but the program continues running.\n",
    "- ERROR: Indicates a problem that prevents part of the program from working.\n",
    "- CRITICAL: A very serious error that may cause the program to crash.\n",
    "These levels help prioritize the importance of logged messages.  \n",
    "\n",
    "**18. What is the difference between os.fork() and multiprocessing in Python?**\n",
    "- Ans: ```os.fork()```: Creates a child process by duplicating the current process. It’s available only on Unix-like systems (Linux/macOS) and can lead to issues with memory sharing.  \n",
    "- ```multiprocessing```: A higher-level Python module that provides cross-platform support for creating processes, including automatic memory management and process synchronization.  \n",
    "\n",
    "**19. What is the importance of closing a file in Python?**\n",
    "- Ans: Closing a file in Python is important because:\n",
    "- It frees up system resources like memory and file handles.\n",
    "- Ensures that any unsaved data is properly written to the file.\n",
    "- Prevents potential file corruption or data loss.\n",
    "\n",
    "**20.  What is the difference between file.read() and file.readline() in Python?**\n",
    "- Ans: ```file.read()```: Reads the entire file as a single string.\n",
    "- ```file.readline()```: Reads one line at a time from the file.\n",
    "Use ```read()``` for the whole file and ```readline()``` for processing file line by line.  \n",
    "\n",
    "**21. What is the logging module in Python used for?**\n",
    "- Ans: The `logging` module in Python is used to:\n",
    "- Track and record events, errors, and other messages during program execution.\n",
    "- Provide different logging levels (e.g., DEBUG, INFO, WARNING, ERROR, CRITICAL) to control the output's verbosity.\n",
    "- Write logs to files, console, or other destinations for debugging, monitoring, and analysis.  \n",
    "\n",
    "**22. What is the os module in Python used for in file handling?**\n",
    "- Ans: The `os` module in Python is used for interacting with the operating system and performing file handling tasks such as:\n",
    "- Creating, deleting, and renaming files (`os.remove()`, `os.rename()`)\n",
    "- Navigating directories (`os.chdir()`, `os.listdir()`)\n",
    "- Checking file status (`os.path.exists()`, `os.path.isdir()`)  \n",
    "\n",
    "**23. What are the challenges associated with memory management in Python?**\n",
    "- Ans: Challenges with memory management in Python include:\n",
    "1. Memory leaks: Objects that are no longer needed but still referenced, preventing garbage collection.\n",
    "2. Circular references: When objects refer to each other, making it hard for the garbage collector to free them.\n",
    "3. Overhead: Python’s automatic memory management can add performance overhead, especially in large-scale applications.\n",
    "(Python handles most memory management automatically, but these issues can still arise in complex programs.)  \n",
    "\n",
    "**24. How do you raise an exception manually in Python?**\n",
    "- Ans: We can raise an exception manually in Python using the `raise` keyword.\n",
    "  ```python\n",
    "    raise Exception(\"This is an error message\")\n",
    "  ```\n",
    "\n",
    "**25. Why is it important to use multithreading in certain applications?**\n",
    "- Ans: Multithreading is important in certain applications because:\n",
    "- Improves performance for I/O-bound tasks by allowing multiple operations to run concurrently (e.g., file handling, network requests).\n",
    "- Increases responsiveness in applications with user interfaces by keeping the main thread free.\n",
    "- Efficiently utilizes CPU resources for tasks that require waiting or idle time. \n",
    "(It’s particularly useful in applications needing parallelism or handling multiple tasks at once.)\n",
    "\n",
    "<hr>\n",
    "\n",
    "### Practical Questions"
   ]
  },
  {
   "cell_type": "code",
   "execution_count": 14,
   "id": "8cbac128-c9ca-46cb-9c21-a14a522285c7",
   "metadata": {},
   "outputs": [],
   "source": [
    "# 1. How can you open a file for writing in Python and write a string to it\n",
    "\n",
    "with open('file.txt', 'w') as file:\n",
    "    file.write(\"Hello, this is a string written to the file.\")"
   ]
  },
  {
   "cell_type": "code",
   "execution_count": 16,
   "id": "51f7b1f4-fd8e-4810-8427-01c1fe3902f6",
   "metadata": {},
   "outputs": [
    {
     "name": "stdout",
     "output_type": "stream",
     "text": [
      "Hello, this is a string written to the file."
     ]
    }
   ],
   "source": [
    "# 2. Write a Python program to read the contents of a file and print each line.\n",
    "\n",
    "with open('file.txt', 'r') as file:\n",
    "    # Read and print each line\n",
    "    for line in file:\n",
    "        print(line, end='')"
   ]
  },
  {
   "cell_type": "code",
   "execution_count": 20,
   "id": "cc20a7ce-26b2-4aab-8ec5-838b3f7d7b0c",
   "metadata": {},
   "outputs": [
    {
     "name": "stdout",
     "output_type": "stream",
     "text": [
      "Hello, this is a string written to the file.\n"
     ]
    }
   ],
   "source": [
    "# 3. How would you handle a case where the file doesn't exist while trying to open it for reading?\n",
    "\n",
    "try:\n",
    "    with open('file.txt', 'r') as file:\n",
    "        # Read and print the content\n",
    "        content = file.read()\n",
    "        print(content)\n",
    "except FileNotFoundError:\n",
    "    print(\"Error: The file does not exist.\")"
   ]
  },
  {
   "cell_type": "code",
   "execution_count": 24,
   "id": "9d355f3f-ecd7-4f8f-ba87-325386b7b5de",
   "metadata": {},
   "outputs": [
    {
     "name": "stdout",
     "output_type": "stream",
     "text": [
      "Content copied successfully!\n"
     ]
    }
   ],
   "source": [
    "# 4. Write a Python script that reads from one file and writes its content to another file.\n",
    "\n",
    "# Open the source file for reading\n",
    "with open('file.txt', 'r') as source_file:\n",
    "    # Read the content of the source file\n",
    "    content = source_file.read()\n",
    "\n",
    "# Open the destination file for writing\n",
    "with open('destination.txt', 'w') as destination_file:\n",
    "    # Write the content to the destination file\n",
    "    destination_file.write(content)\n",
    "\n",
    "print(\"Content copied successfully!\")"
   ]
  },
  {
   "cell_type": "code",
   "execution_count": 26,
   "id": "8408c1f8-a9b8-4421-b129-bf9759db9be3",
   "metadata": {},
   "outputs": [
    {
     "name": "stdout",
     "output_type": "stream",
     "text": [
      "Error: Division by zero is not allowed.\n"
     ]
    }
   ],
   "source": [
    "# 5. How would you catch and handle division by zero error in Python.\n",
    "\n",
    "try:\n",
    "    # Code that may cause division by zero\n",
    "    result = 10 / 0\n",
    "except ZeroDivisionError:\n",
    "    print(\"Error: Division by zero is not allowed.\")"
   ]
  },
  {
   "cell_type": "code",
   "execution_count": 30,
   "id": "8a57da18-de73-44d5-aabe-9967008b79d1",
   "metadata": {},
   "outputs": [
    {
     "name": "stdout",
     "output_type": "stream",
     "text": [
      "An error occurred. Check the log file for details.\n"
     ]
    }
   ],
   "source": [
    "# 6. Write a Python program that logs an error message to a log file when a division by zero exception occurs.\n",
    "\n",
    "import logging\n",
    "\n",
    "# logging configuration set-up\n",
    "logging.basicConfig(filename='error_log.txt', level=logging.ERROR, format='%(asctime)s - %(levelname)s - %(message)s')\n",
    "\n",
    "try:\n",
    "    # Code that may cause division by zero\n",
    "    result = 10 / 0\n",
    "except ZeroDivisionError as e:\n",
    "    logging.error(f\"Error occurred: {e}\")\n",
    "    print(\"An error occurred. Check the log file for details.\")"
   ]
  },
  {
   "cell_type": "code",
   "execution_count": 32,
   "id": "22d5c3d9-3072-478f-b9bf-2a62af84370e",
   "metadata": {},
   "outputs": [],
   "source": [
    "# 7. How do you log information at different levels (INFO, ERROR, WARNING) in Python using the logging module.\n",
    "\n",
    "import logging\n",
    "\n",
    "# Set up logging configuration\n",
    "logging.basicConfig(filename='app_log.txt', level=logging.DEBUG, \n",
    "                    format='%(asctime)s - %(levelname)s - %(message)s')\n",
    "\n",
    "# Log an INFO message\n",
    "logging.info('This is an informational message.')\n",
    "\n",
    "# Log a WARNING message\n",
    "logging.warning('This is a warning message.')\n",
    "\n",
    "# Log an ERROR message\n",
    "logging.error('This is an error message.')\n",
    "\n",
    "# You can also log other levels like DEBUG, CRITICAL as needed\n",
    "logging.debug('This is a debug message.')\n",
    "logging.critical('This is a critical message.')"
   ]
  },
  {
   "cell_type": "code",
   "execution_count": 34,
   "id": "9b8e41fa-3558-44b4-9583-7fd5bf8f9a69",
   "metadata": {},
   "outputs": [
    {
     "name": "stdout",
     "output_type": "stream",
     "text": [
      "Error: The file does not exist.\n"
     ]
    }
   ],
   "source": [
    "# 8. Write a program to handle a file opening error using exception handling.\n",
    "\n",
    "try:\n",
    "    # Attempt to open a file\n",
    "    with open('non_existent_file.txt', 'r') as file:\n",
    "        content = file.read()\n",
    "    print(content)\n",
    "\n",
    "except FileNotFoundError:\n",
    "    print(\"Error: The file does not exist.\")\n",
    "\n",
    "except IOError:\n",
    "    print(\"Error: An I/O error occurred while trying to open the file.\")"
   ]
  },
  {
   "cell_type": "code",
   "execution_count": 36,
   "id": "3df33f6a-9cbf-4314-b13c-95755af75d33",
   "metadata": {},
   "outputs": [
    {
     "name": "stdout",
     "output_type": "stream",
     "text": [
      "['Hello, this is a string written to the file.']\n"
     ]
    }
   ],
   "source": [
    "# 9. How can you read a file line by line and store its content in a list in Python?\n",
    "\n",
    "with open('file.txt', 'r') as file:\n",
    "    # Read all lines and store them in a list\n",
    "    lines = file.readlines()\n",
    "\n",
    "print(lines)"
   ]
  },
  {
   "cell_type": "code",
   "execution_count": 40,
   "id": "8fecc72d-990d-4767-b382-edad67a9158e",
   "metadata": {},
   "outputs": [
    {
     "name": "stdout",
     "output_type": "stream",
     "text": [
      "Data appended successfully!\n"
     ]
    }
   ],
   "source": [
    "# 10. How can you append data to an existing file in Python.\n",
    "\n",
    "with open('file.txt', 'a') as file:\n",
    "    # Append data to the file\n",
    "    file.write(\"\\nThis new data will be appended.\")\n",
    "\n",
    "print(\"Data appended successfully!\")"
   ]
  },
  {
   "cell_type": "code",
   "execution_count": 42,
   "id": "bbbc543a-31d5-4aed-8e6d-09570c2b0485",
   "metadata": {},
   "outputs": [
    {
     "name": "stdout",
     "output_type": "stream",
     "text": [
      "Error: The key does not exist in the dictionary.\n"
     ]
    }
   ],
   "source": [
    "# 11. Write a Python program that uses a try-except block to handle an error when attempting to access a dictionary key that doesn't exist.\n",
    "\n",
    "my_dict = {'name': 'Alice', 'age': 25}\n",
    "\n",
    "try:\n",
    "    # Attempt to access a non-existing key\n",
    "    print(my_dict['address'])\n",
    "except KeyError:\n",
    "    print(\"Error: The key does not exist in the dictionary.\")"
   ]
  },
  {
   "cell_type": "code",
   "execution_count": 44,
   "id": "94725e62-9ddb-4e7e-a209-c9d556a4558c",
   "metadata": {},
   "outputs": [
    {
     "name": "stdout",
     "output_type": "stream",
     "text": [
      "Error: Division by zero occurred.\n"
     ]
    }
   ],
   "source": [
    "# 12. Write a program that demonstrates using multiple except blocks to handle different types of exceptions.\n",
    "\n",
    "try:\n",
    "    x = 10 / 0\n",
    "    \n",
    "    # Simulate file opening error\n",
    "    with open('non_existent_file.txt', 'r') as file:\n",
    "        content = file.read()\n",
    "\n",
    "    my_dict = {'name': 'Alice'}\n",
    "    print(my_dict['address'])\n",
    "\n",
    "except ZeroDivisionError:\n",
    "    print(\"Error: Division by zero occurred.\")\n",
    "\n",
    "except FileNotFoundError:\n",
    "    print(\"Error: The file was not found.\")\n",
    "\n",
    "except KeyError:\n",
    "    print(\"Error: The key does not exist in the dictionary.\")\n",
    "\n",
    "except Exception as e:\n",
    "    print(f\"An unexpected error occurred: {e}\")"
   ]
  },
  {
   "cell_type": "code",
   "execution_count": 46,
   "id": "c5df2cb3-d39d-4104-b028-6719821413b9",
   "metadata": {},
   "outputs": [
    {
     "name": "stdout",
     "output_type": "stream",
     "text": [
      "Hello, this is a string written to the file.\n",
      "This new data will be appended.\n"
     ]
    }
   ],
   "source": [
    "# 13. How would you check if a file exists before attempting to read it in Python.\n",
    "\n",
    "import os\n",
    "\n",
    "file_path = 'file.txt'\n",
    "\n",
    "if os.path.exists(file_path):\n",
    "    # Open and read the file if it exists\n",
    "    with open(file_path, 'r') as file:\n",
    "        content = file.read()\n",
    "    print(content)\n",
    "else:\n",
    "    print(f\"Error: The file '{file_path}' does not exist.\")"
   ]
  },
  {
   "cell_type": "code",
   "execution_count": 48,
   "id": "10707157-2e94-4e1a-b7bc-869565c31c9d",
   "metadata": {},
   "outputs": [],
   "source": [
    "# 14. Write a program that uses the logging module to log both informational and error messages.\n",
    "\n",
    "import logging\n",
    "\n",
    "# Set up logging configuration\n",
    "logging.basicConfig(filename='app_log.txt', level=logging.DEBUG, format='%(asctime)s - %(levelname)s - %(message)s')\n",
    "\n",
    "# Log an informational message\n",
    "logging.info('This is an informational message.')\n",
    "\n",
    "# Log an error message\n",
    "logging.error('This is an error message.')\n",
    "\n",
    "# Log a warning message\n",
    "logging.warning('This is a warning message.')\n",
    "\n",
    "# Log a debug message\n",
    "logging.debug('This is a debug message.')"
   ]
  },
  {
   "cell_type": "code",
   "execution_count": 50,
   "id": "b489112d-aaa0-47a9-89ac-48353dcbbf76",
   "metadata": {},
   "outputs": [
    {
     "name": "stdout",
     "output_type": "stream",
     "text": [
      "Hello, this is a string written to the file.\n",
      "This new data will be appended.\n"
     ]
    }
   ],
   "source": [
    "# 15. Write a Python program that prints the content of a file and handles the case when the file is empty.\n",
    "\n",
    "try:\n",
    "    # Open the file in read mode ('r')\n",
    "    with open('file.txt', 'r') as file:\n",
    "        content = file.read()\n",
    "        \n",
    "        # Check if the file is empty\n",
    "        if content:\n",
    "            print(content)\n",
    "        else:\n",
    "            print(\"The file is empty.\")\n",
    "except FileNotFoundError:\n",
    "    print(\"Error: The file does not exist.\")"
   ]
  },
  {
   "cell_type": "code",
   "execution_count": 56,
   "id": "092d7699-57bb-4401-a91b-0eec79584abd",
   "metadata": {},
   "outputs": [
    {
     "ename": "ModuleNotFoundError",
     "evalue": "No module named 'memory_profiler'",
     "output_type": "error",
     "traceback": [
      "\u001b[1;31m---------------------------------------------------------------------------\u001b[0m",
      "\u001b[1;31mModuleNotFoundError\u001b[0m                       Traceback (most recent call last)",
      "Cell \u001b[1;32mIn[56], line 3\u001b[0m\n\u001b[0;32m      1\u001b[0m \u001b[38;5;66;03m# 16. Demonstrate how to use memory profiling to check the memory usage of a small program.\u001b[39;00m\n\u001b[1;32m----> 3\u001b[0m \u001b[38;5;28;01mfrom\u001b[39;00m \u001b[38;5;21;01mmemory_profiler\u001b[39;00m \u001b[38;5;28;01mimport\u001b[39;00m profile\n\u001b[0;32m      5\u001b[0m \u001b[38;5;66;03m# Decorate the function with @profile to monitor its memory usage\u001b[39;00m\n\u001b[0;32m      6\u001b[0m \u001b[38;5;129m@profile\u001b[39m\n\u001b[0;32m      7\u001b[0m \u001b[38;5;28;01mdef\u001b[39;00m \u001b[38;5;21mmy_function\u001b[39m():\n",
      "\u001b[1;31mModuleNotFoundError\u001b[0m: No module named 'memory_profiler'"
     ]
    }
   ],
   "source": [
    "# 16. Demonstrate how to use memory profiling to check the memory usage of a small program.\n",
    "\n",
    "from memory_profiler import profile\n",
    "\n",
    "# Decorate the function with @profile to monitor its memory usage\n",
    "@profile\n",
    "def my_function():\n",
    "    a = [i for i in range(100000)]  # Create a large list\n",
    "    b = [i * 2 for i in a]          # Create another list based on the first one\n",
    "    return b\n",
    "\n",
    "# Call the function\n",
    "if __name__ == '__main__':\n",
    "    my_function()"
   ]
  },
  {
   "cell_type": "code",
   "execution_count": 58,
   "id": "302211a1-3341-40d4-9d13-27aab1f78e0f",
   "metadata": {},
   "outputs": [
    {
     "name": "stdout",
     "output_type": "stream",
     "text": [
      "Numbers have been written to 'numbers.txt'\n"
     ]
    }
   ],
   "source": [
    "# 17. Write a Python program to create and write a list of numbers to a file, one number per line.\n",
    "\n",
    "# List of numbers to write to the file\n",
    "numbers = [1, 2, 3, 4, 5, 6, 7, 8, 9, 10]\n",
    "\n",
    "# Open the file in write mode ('w')\n",
    "with open('numbers.txt', 'w') as file:\n",
    "    # Iterate over the list and write each number on a new line\n",
    "    for number in numbers:\n",
    "        file.write(f\"{number}\\n\")\n",
    "\n",
    "print(\"Numbers have been written to 'numbers.txt'\")"
   ]
  },
  {
   "cell_type": "code",
   "execution_count": 66,
   "id": "01739db8-394f-40f6-98f6-3c2b151bd8f5",
   "metadata": {},
   "outputs": [
    {
     "name": "stderr",
     "output_type": "stream",
     "text": [
      "--- Logging error ---\n",
      "Traceback (most recent call last):\n",
      "  File \"C:\\Users\\ROG\\anaconda3\\Lib\\logging\\handlers.py\", line 74, in emit\n",
      "    self.doRollover()\n",
      "  File \"C:\\Users\\ROG\\anaconda3\\Lib\\logging\\handlers.py\", line 179, in doRollover\n",
      "    self.rotate(self.baseFilename, dfn)\n",
      "  File \"C:\\Users\\ROG\\anaconda3\\Lib\\logging\\handlers.py\", line 115, in rotate\n",
      "    os.rename(source, dest)\n",
      "PermissionError: [WinError 32] The process cannot access the file because it is being used by another process: 'D:\\\\Programming\\\\PWSkills_DS\\\\app.log' -> 'D:\\\\Programming\\\\PWSkills_DS\\\\app.log.1'\n",
      "Call stack:\n",
      "  File \"<frozen runpy>\", line 198, in _run_module_as_main\n",
      "  File \"<frozen runpy>\", line 88, in _run_code\n",
      "  File \"C:\\Users\\ROG\\anaconda3\\Lib\\site-packages\\ipykernel_launcher.py\", line 17, in <module>\n",
      "    app.launch_new_instance()\n",
      "  File \"C:\\Users\\ROG\\anaconda3\\Lib\\site-packages\\traitlets\\config\\application.py\", line 1075, in launch_instance\n",
      "    app.start()\n",
      "  File \"C:\\Users\\ROG\\anaconda3\\Lib\\site-packages\\ipykernel\\kernelapp.py\", line 701, in start\n",
      "    self.io_loop.start()\n",
      "  File \"C:\\Users\\ROG\\anaconda3\\Lib\\site-packages\\tornado\\platform\\asyncio.py\", line 205, in start\n",
      "    self.asyncio_loop.run_forever()\n",
      "  File \"C:\\Users\\ROG\\anaconda3\\Lib\\asyncio\\windows_events.py\", line 322, in run_forever\n",
      "    super().run_forever()\n",
      "  File \"C:\\Users\\ROG\\anaconda3\\Lib\\asyncio\\base_events.py\", line 641, in run_forever\n",
      "    self._run_once()\n",
      "  File \"C:\\Users\\ROG\\anaconda3\\Lib\\asyncio\\base_events.py\", line 1986, in _run_once\n",
      "    handle._run()\n",
      "  File \"C:\\Users\\ROG\\anaconda3\\Lib\\asyncio\\events.py\", line 88, in _run\n",
      "    self._context.run(self._callback, *self._args)\n",
      "  File \"C:\\Users\\ROG\\anaconda3\\Lib\\site-packages\\ipykernel\\kernelbase.py\", line 534, in dispatch_queue\n",
      "    await self.process_one()\n",
      "  File \"C:\\Users\\ROG\\anaconda3\\Lib\\site-packages\\ipykernel\\kernelbase.py\", line 523, in process_one\n",
      "    await dispatch(*args)\n",
      "  File \"C:\\Users\\ROG\\anaconda3\\Lib\\site-packages\\ipykernel\\kernelbase.py\", line 429, in dispatch_shell\n",
      "    await result\n",
      "  File \"C:\\Users\\ROG\\anaconda3\\Lib\\site-packages\\ipykernel\\kernelbase.py\", line 767, in execute_request\n",
      "    reply_content = await reply_content\n",
      "  File \"C:\\Users\\ROG\\anaconda3\\Lib\\site-packages\\ipykernel\\ipkernel.py\", line 429, in do_execute\n",
      "    res = shell.run_cell(\n",
      "  File \"C:\\Users\\ROG\\anaconda3\\Lib\\site-packages\\ipykernel\\zmqshell.py\", line 549, in run_cell\n",
      "    return super().run_cell(*args, **kwargs)\n",
      "  File \"C:\\Users\\ROG\\anaconda3\\Lib\\site-packages\\IPython\\core\\interactiveshell.py\", line 3075, in run_cell\n",
      "    result = self._run_cell(\n",
      "  File \"C:\\Users\\ROG\\anaconda3\\Lib\\site-packages\\IPython\\core\\interactiveshell.py\", line 3130, in _run_cell\n",
      "    result = runner(coro)\n",
      "  File \"C:\\Users\\ROG\\anaconda3\\Lib\\site-packages\\IPython\\core\\async_helpers.py\", line 128, in _pseudo_sync_runner\n",
      "    coro.send(None)\n",
      "  File \"C:\\Users\\ROG\\anaconda3\\Lib\\site-packages\\IPython\\core\\interactiveshell.py\", line 3334, in run_cell_async\n",
      "    has_raised = await self.run_ast_nodes(code_ast.body, cell_name,\n",
      "  File \"C:\\Users\\ROG\\anaconda3\\Lib\\site-packages\\IPython\\core\\interactiveshell.py\", line 3517, in run_ast_nodes\n",
      "    if await self.run_code(code, result, async_=asy):\n",
      "  File \"C:\\Users\\ROG\\anaconda3\\Lib\\site-packages\\IPython\\core\\interactiveshell.py\", line 3577, in run_code\n",
      "    exec(code_obj, self.user_global_ns, self.user_ns)\n",
      "  File \"C:\\Users\\ROG\\AppData\\Local\\Temp\\ipykernel_26288\\1498795447.py\", line 23, in <module>\n",
      "    logger.info(f\"This is log message number {i}\")\n",
      "Message: 'This is log message number 620'\n",
      "Arguments: ()\n",
      "--- Logging error ---\n",
      "Traceback (most recent call last):\n",
      "  File \"C:\\Users\\ROG\\anaconda3\\Lib\\logging\\handlers.py\", line 74, in emit\n",
      "    self.doRollover()\n",
      "  File \"C:\\Users\\ROG\\anaconda3\\Lib\\logging\\handlers.py\", line 179, in doRollover\n",
      "    self.rotate(self.baseFilename, dfn)\n",
      "  File \"C:\\Users\\ROG\\anaconda3\\Lib\\logging\\handlers.py\", line 115, in rotate\n",
      "    os.rename(source, dest)\n",
      "PermissionError: [WinError 32] The process cannot access the file because it is being used by another process: 'D:\\\\Programming\\\\PWSkills_DS\\\\app.log' -> 'D:\\\\Programming\\\\PWSkills_DS\\\\app.log.1'\n",
      "Call stack:\n",
      "  File \"<frozen runpy>\", line 198, in _run_module_as_main\n",
      "  File \"<frozen runpy>\", line 88, in _run_code\n",
      "  File \"C:\\Users\\ROG\\anaconda3\\Lib\\site-packages\\ipykernel_launcher.py\", line 17, in <module>\n",
      "    app.launch_new_instance()\n",
      "  File \"C:\\Users\\ROG\\anaconda3\\Lib\\site-packages\\traitlets\\config\\application.py\", line 1075, in launch_instance\n",
      "    app.start()\n",
      "  File \"C:\\Users\\ROG\\anaconda3\\Lib\\site-packages\\ipykernel\\kernelapp.py\", line 701, in start\n",
      "    self.io_loop.start()\n",
      "  File \"C:\\Users\\ROG\\anaconda3\\Lib\\site-packages\\tornado\\platform\\asyncio.py\", line 205, in start\n",
      "    self.asyncio_loop.run_forever()\n",
      "  File \"C:\\Users\\ROG\\anaconda3\\Lib\\asyncio\\windows_events.py\", line 322, in run_forever\n",
      "    super().run_forever()\n",
      "  File \"C:\\Users\\ROG\\anaconda3\\Lib\\asyncio\\base_events.py\", line 641, in run_forever\n",
      "    self._run_once()\n",
      "  File \"C:\\Users\\ROG\\anaconda3\\Lib\\asyncio\\base_events.py\", line 1986, in _run_once\n",
      "    handle._run()\n",
      "  File \"C:\\Users\\ROG\\anaconda3\\Lib\\asyncio\\events.py\", line 88, in _run\n",
      "    self._context.run(self._callback, *self._args)\n",
      "  File \"C:\\Users\\ROG\\anaconda3\\Lib\\site-packages\\ipykernel\\kernelbase.py\", line 534, in dispatch_queue\n",
      "    await self.process_one()\n",
      "  File \"C:\\Users\\ROG\\anaconda3\\Lib\\site-packages\\ipykernel\\kernelbase.py\", line 523, in process_one\n",
      "    await dispatch(*args)\n",
      "  File \"C:\\Users\\ROG\\anaconda3\\Lib\\site-packages\\ipykernel\\kernelbase.py\", line 429, in dispatch_shell\n",
      "    await result\n",
      "  File \"C:\\Users\\ROG\\anaconda3\\Lib\\site-packages\\ipykernel\\kernelbase.py\", line 767, in execute_request\n",
      "    reply_content = await reply_content\n",
      "  File \"C:\\Users\\ROG\\anaconda3\\Lib\\site-packages\\ipykernel\\ipkernel.py\", line 429, in do_execute\n",
      "    res = shell.run_cell(\n",
      "  File \"C:\\Users\\ROG\\anaconda3\\Lib\\site-packages\\ipykernel\\zmqshell.py\", line 549, in run_cell\n",
      "    return super().run_cell(*args, **kwargs)\n",
      "  File \"C:\\Users\\ROG\\anaconda3\\Lib\\site-packages\\IPython\\core\\interactiveshell.py\", line 3075, in run_cell\n",
      "    result = self._run_cell(\n",
      "  File \"C:\\Users\\ROG\\anaconda3\\Lib\\site-packages\\IPython\\core\\interactiveshell.py\", line 3130, in _run_cell\n",
      "    result = runner(coro)\n",
      "  File \"C:\\Users\\ROG\\anaconda3\\Lib\\site-packages\\IPython\\core\\async_helpers.py\", line 128, in _pseudo_sync_runner\n",
      "    coro.send(None)\n",
      "  File \"C:\\Users\\ROG\\anaconda3\\Lib\\site-packages\\IPython\\core\\interactiveshell.py\", line 3334, in run_cell_async\n",
      "    has_raised = await self.run_ast_nodes(code_ast.body, cell_name,\n",
      "  File \"C:\\Users\\ROG\\anaconda3\\Lib\\site-packages\\IPython\\core\\interactiveshell.py\", line 3517, in run_ast_nodes\n",
      "    if await self.run_code(code, result, async_=asy):\n",
      "  File \"C:\\Users\\ROG\\anaconda3\\Lib\\site-packages\\IPython\\core\\interactiveshell.py\", line 3577, in run_code\n",
      "    exec(code_obj, self.user_global_ns, self.user_ns)\n",
      "  File \"C:\\Users\\ROG\\AppData\\Local\\Temp\\ipykernel_26288\\1498795447.py\", line 23, in <module>\n",
      "    logger.info(f\"This is log message number {i}\")\n",
      "Message: 'This is log message number 620'\n",
      "Arguments: ()\n",
      "--- Logging error ---\n",
      "Traceback (most recent call last):\n",
      "  File \"C:\\Users\\ROG\\anaconda3\\Lib\\logging\\handlers.py\", line 74, in emit\n",
      "    self.doRollover()\n",
      "  File \"C:\\Users\\ROG\\anaconda3\\Lib\\logging\\handlers.py\", line 179, in doRollover\n",
      "    self.rotate(self.baseFilename, dfn)\n",
      "  File \"C:\\Users\\ROG\\anaconda3\\Lib\\logging\\handlers.py\", line 115, in rotate\n",
      "    os.rename(source, dest)\n",
      "PermissionError: [WinError 32] The process cannot access the file because it is being used by another process: 'D:\\\\Programming\\\\PWSkills_DS\\\\app.log' -> 'D:\\\\Programming\\\\PWSkills_DS\\\\app.log.1'\n",
      "Call stack:\n",
      "  File \"<frozen runpy>\", line 198, in _run_module_as_main\n",
      "  File \"<frozen runpy>\", line 88, in _run_code\n",
      "  File \"C:\\Users\\ROG\\anaconda3\\Lib\\site-packages\\ipykernel_launcher.py\", line 17, in <module>\n",
      "    app.launch_new_instance()\n",
      "  File \"C:\\Users\\ROG\\anaconda3\\Lib\\site-packages\\traitlets\\config\\application.py\", line 1075, in launch_instance\n",
      "    app.start()\n",
      "  File \"C:\\Users\\ROG\\anaconda3\\Lib\\site-packages\\ipykernel\\kernelapp.py\", line 701, in start\n",
      "    self.io_loop.start()\n",
      "  File \"C:\\Users\\ROG\\anaconda3\\Lib\\site-packages\\tornado\\platform\\asyncio.py\", line 205, in start\n",
      "    self.asyncio_loop.run_forever()\n",
      "  File \"C:\\Users\\ROG\\anaconda3\\Lib\\asyncio\\windows_events.py\", line 322, in run_forever\n",
      "    super().run_forever()\n",
      "  File \"C:\\Users\\ROG\\anaconda3\\Lib\\asyncio\\base_events.py\", line 641, in run_forever\n",
      "    self._run_once()\n",
      "  File \"C:\\Users\\ROG\\anaconda3\\Lib\\asyncio\\base_events.py\", line 1986, in _run_once\n",
      "    handle._run()\n",
      "  File \"C:\\Users\\ROG\\anaconda3\\Lib\\asyncio\\events.py\", line 88, in _run\n",
      "    self._context.run(self._callback, *self._args)\n",
      "  File \"C:\\Users\\ROG\\anaconda3\\Lib\\site-packages\\ipykernel\\kernelbase.py\", line 534, in dispatch_queue\n",
      "    await self.process_one()\n",
      "  File \"C:\\Users\\ROG\\anaconda3\\Lib\\site-packages\\ipykernel\\kernelbase.py\", line 523, in process_one\n",
      "    await dispatch(*args)\n",
      "  File \"C:\\Users\\ROG\\anaconda3\\Lib\\site-packages\\ipykernel\\kernelbase.py\", line 429, in dispatch_shell\n",
      "    await result\n",
      "  File \"C:\\Users\\ROG\\anaconda3\\Lib\\site-packages\\ipykernel\\kernelbase.py\", line 767, in execute_request\n",
      "    reply_content = await reply_content\n",
      "  File \"C:\\Users\\ROG\\anaconda3\\Lib\\site-packages\\ipykernel\\ipkernel.py\", line 429, in do_execute\n",
      "    res = shell.run_cell(\n",
      "  File \"C:\\Users\\ROG\\anaconda3\\Lib\\site-packages\\ipykernel\\zmqshell.py\", line 549, in run_cell\n",
      "    return super().run_cell(*args, **kwargs)\n",
      "  File \"C:\\Users\\ROG\\anaconda3\\Lib\\site-packages\\IPython\\core\\interactiveshell.py\", line 3075, in run_cell\n",
      "    result = self._run_cell(\n",
      "  File \"C:\\Users\\ROG\\anaconda3\\Lib\\site-packages\\IPython\\core\\interactiveshell.py\", line 3130, in _run_cell\n",
      "    result = runner(coro)\n",
      "  File \"C:\\Users\\ROG\\anaconda3\\Lib\\site-packages\\IPython\\core\\async_helpers.py\", line 128, in _pseudo_sync_runner\n",
      "    coro.send(None)\n",
      "  File \"C:\\Users\\ROG\\anaconda3\\Lib\\site-packages\\IPython\\core\\interactiveshell.py\", line 3334, in run_cell_async\n",
      "    has_raised = await self.run_ast_nodes(code_ast.body, cell_name,\n",
      "  File \"C:\\Users\\ROG\\anaconda3\\Lib\\site-packages\\IPython\\core\\interactiveshell.py\", line 3517, in run_ast_nodes\n",
      "    if await self.run_code(code, result, async_=asy):\n",
      "  File \"C:\\Users\\ROG\\anaconda3\\Lib\\site-packages\\IPython\\core\\interactiveshell.py\", line 3577, in run_code\n",
      "    exec(code_obj, self.user_global_ns, self.user_ns)\n",
      "  File \"C:\\Users\\ROG\\AppData\\Local\\Temp\\ipykernel_26288\\1498795447.py\", line 23, in <module>\n",
      "    logger.info(f\"This is log message number {i}\")\n",
      "Message: 'This is log message number 5923'\n",
      "Arguments: ()\n",
      "--- Logging error ---\n",
      "Traceback (most recent call last):\n",
      "  File \"C:\\Users\\ROG\\anaconda3\\Lib\\logging\\handlers.py\", line 74, in emit\n",
      "    self.doRollover()\n",
      "  File \"C:\\Users\\ROG\\anaconda3\\Lib\\logging\\handlers.py\", line 179, in doRollover\n",
      "    self.rotate(self.baseFilename, dfn)\n",
      "  File \"C:\\Users\\ROG\\anaconda3\\Lib\\logging\\handlers.py\", line 115, in rotate\n",
      "    os.rename(source, dest)\n",
      "PermissionError: [WinError 32] The process cannot access the file because it is being used by another process: 'D:\\\\Programming\\\\PWSkills_DS\\\\app.log' -> 'D:\\\\Programming\\\\PWSkills_DS\\\\app.log.1'\n",
      "Call stack:\n",
      "  File \"<frozen runpy>\", line 198, in _run_module_as_main\n",
      "  File \"<frozen runpy>\", line 88, in _run_code\n",
      "  File \"C:\\Users\\ROG\\anaconda3\\Lib\\site-packages\\ipykernel_launcher.py\", line 17, in <module>\n",
      "    app.launch_new_instance()\n",
      "  File \"C:\\Users\\ROG\\anaconda3\\Lib\\site-packages\\traitlets\\config\\application.py\", line 1075, in launch_instance\n",
      "    app.start()\n",
      "  File \"C:\\Users\\ROG\\anaconda3\\Lib\\site-packages\\ipykernel\\kernelapp.py\", line 701, in start\n",
      "    self.io_loop.start()\n",
      "  File \"C:\\Users\\ROG\\anaconda3\\Lib\\site-packages\\tornado\\platform\\asyncio.py\", line 205, in start\n",
      "    self.asyncio_loop.run_forever()\n",
      "  File \"C:\\Users\\ROG\\anaconda3\\Lib\\asyncio\\windows_events.py\", line 322, in run_forever\n",
      "    super().run_forever()\n",
      "  File \"C:\\Users\\ROG\\anaconda3\\Lib\\asyncio\\base_events.py\", line 641, in run_forever\n",
      "    self._run_once()\n",
      "  File \"C:\\Users\\ROG\\anaconda3\\Lib\\asyncio\\base_events.py\", line 1986, in _run_once\n",
      "    handle._run()\n",
      "  File \"C:\\Users\\ROG\\anaconda3\\Lib\\asyncio\\events.py\", line 88, in _run\n",
      "    self._context.run(self._callback, *self._args)\n",
      "  File \"C:\\Users\\ROG\\anaconda3\\Lib\\site-packages\\ipykernel\\kernelbase.py\", line 534, in dispatch_queue\n",
      "    await self.process_one()\n",
      "  File \"C:\\Users\\ROG\\anaconda3\\Lib\\site-packages\\ipykernel\\kernelbase.py\", line 523, in process_one\n",
      "    await dispatch(*args)\n",
      "  File \"C:\\Users\\ROG\\anaconda3\\Lib\\site-packages\\ipykernel\\kernelbase.py\", line 429, in dispatch_shell\n",
      "    await result\n",
      "  File \"C:\\Users\\ROG\\anaconda3\\Lib\\site-packages\\ipykernel\\kernelbase.py\", line 767, in execute_request\n",
      "    reply_content = await reply_content\n",
      "  File \"C:\\Users\\ROG\\anaconda3\\Lib\\site-packages\\ipykernel\\ipkernel.py\", line 429, in do_execute\n",
      "    res = shell.run_cell(\n",
      "  File \"C:\\Users\\ROG\\anaconda3\\Lib\\site-packages\\ipykernel\\zmqshell.py\", line 549, in run_cell\n",
      "    return super().run_cell(*args, **kwargs)\n",
      "  File \"C:\\Users\\ROG\\anaconda3\\Lib\\site-packages\\IPython\\core\\interactiveshell.py\", line 3075, in run_cell\n",
      "    result = self._run_cell(\n",
      "  File \"C:\\Users\\ROG\\anaconda3\\Lib\\site-packages\\IPython\\core\\interactiveshell.py\", line 3130, in _run_cell\n",
      "    result = runner(coro)\n",
      "  File \"C:\\Users\\ROG\\anaconda3\\Lib\\site-packages\\IPython\\core\\async_helpers.py\", line 128, in _pseudo_sync_runner\n",
      "    coro.send(None)\n",
      "  File \"C:\\Users\\ROG\\anaconda3\\Lib\\site-packages\\IPython\\core\\interactiveshell.py\", line 3334, in run_cell_async\n",
      "    has_raised = await self.run_ast_nodes(code_ast.body, cell_name,\n",
      "  File \"C:\\Users\\ROG\\anaconda3\\Lib\\site-packages\\IPython\\core\\interactiveshell.py\", line 3517, in run_ast_nodes\n",
      "    if await self.run_code(code, result, async_=asy):\n",
      "  File \"C:\\Users\\ROG\\anaconda3\\Lib\\site-packages\\IPython\\core\\interactiveshell.py\", line 3577, in run_code\n",
      "    exec(code_obj, self.user_global_ns, self.user_ns)\n",
      "  File \"C:\\Users\\ROG\\AppData\\Local\\Temp\\ipykernel_26288\\1498795447.py\", line 23, in <module>\n",
      "    logger.info(f\"This is log message number {i}\")\n",
      "Message: 'This is log message number 5923'\n",
      "Arguments: ()\n"
     ]
    }
   ],
   "source": [
    "# 18. How would you implement a basic logging setup that logs to a file with rotation after 1MB?\n",
    "\n",
    "import logging\n",
    "from logging.handlers import RotatingFileHandler\n",
    "\n",
    "# Set up a rotating file handler\n",
    "log_file = \"app.log\"\n",
    "handler = RotatingFileHandler(log_file, maxBytes=1 * 1024 * 1024, backupCount=3)\n",
    "# maxBytes = 1MB, backupCount = number of old logs to keep\n",
    "\n",
    "# Create a logger\n",
    "logger = logging.getLogger(\"MyLogger\")\n",
    "logger.setLevel(logging.INFO)  # Set the minimum log level\n",
    "\n",
    "# Create a formatter and add it to the handler\n",
    "formatter = logging.Formatter('%(asctime)s - %(levelname)s - %(message)s')\n",
    "handler.setFormatter(formatter)\n",
    "\n",
    "# Add the handler to the logger\n",
    "logger.addHandler(handler)\n",
    "\n",
    "for i in range(10000):\n",
    "    logger.info(f\"This is log message number {i}\")"
   ]
  },
  {
   "cell_type": "code",
   "execution_count": 70,
   "id": "ecc47b22-919f-4f72-9842-661035883def",
   "metadata": {},
   "outputs": [
    {
     "name": "stdout",
     "output_type": "stream",
     "text": [
      "IndexError occurred: List index out of range.\n",
      "Execution complete.\n"
     ]
    }
   ],
   "source": [
    "# 19. Write a program that handles both IndexError and KeyError using a try-except block.\n",
    "\n",
    "try:\n",
    "    my_list = [1, 2, 3]\n",
    "    print(my_list[5])\n",
    "\n",
    "    # Simulate KeyError\n",
    "    my_dict = {'name': 'Alice', 'age': 25}\n",
    "    print(my_dict['gender'])\n",
    "\n",
    "except IndexError:\n",
    "    print(\"IndexError occurred: List index out of range.\")\n",
    "\n",
    "except KeyError:\n",
    "    print(\"KeyError occurred: Key not found in the dictionary.\")\n",
    "\n",
    "finally:\n",
    "    print(\"Execution complete.\")"
   ]
  },
  {
   "cell_type": "code",
   "execution_count": 72,
   "id": "f82a3f60-45b8-4b85-adb6-e4ade9ada1b8",
   "metadata": {},
   "outputs": [
    {
     "name": "stdout",
     "output_type": "stream",
     "text": [
      "The file 'example.txt' was not found.\n"
     ]
    }
   ],
   "source": [
    "# 20. How would you open a file and read its contents using a context manager in Python.\n",
    "\n",
    "file_path = \"example.txt\"\n",
    "\n",
    "try:\n",
    "    with open(file_path, 'r') as file:\n",
    "        contents = file.read()\n",
    "        print(\"File Contents:\\n\", contents)\n",
    "except FileNotFoundError:\n",
    "    print(f\"The file '{file_path}' was not found.\")"
   ]
  },
  {
   "cell_type": "code",
   "execution_count": 74,
   "id": "1e5aebe6-45a8-4762-88f2-e3844ffcc77d",
   "metadata": {},
   "outputs": [
    {
     "name": "stdout",
     "output_type": "stream",
     "text": [
      "The file 'sample.txt' was not found.\n"
     ]
    }
   ],
   "source": [
    "# 21. Write a Python program that reads a file and prints the number of occurrences of a specific word.\n",
    "\n",
    "file_path = \"sample.txt\"\n",
    "target_word = \"python\"\n",
    "\n",
    "try:\n",
    "    with open(file_path, 'r') as file:\n",
    "        content = file.read().lower()  # Convert to lowercase for case-insensitive matching\n",
    "        word_count = content.split().count(target_word.lower())\n",
    "        print(f\"The word '{target_word}' occurred {word_count} times in the file.\")\n",
    "except FileNotFoundError:\n",
    "    print(f\"The file '{file_path}' was not found.\")\n"
   ]
  },
  {
   "cell_type": "code",
   "execution_count": 78,
   "id": "214d4dc7-ab4e-436a-a989-b0aec57058bf",
   "metadata": {},
   "outputs": [
    {
     "name": "stdout",
     "output_type": "stream",
     "text": [
      "File is either empty or does not exist.\n"
     ]
    }
   ],
   "source": [
    "# 22. How can you check if a file is empty before attempting to read its contents.\n",
    "\n",
    "import os\n",
    "\n",
    "file_path = \"sample.txt\"\n",
    "\n",
    "# Check if file exists and is not empty\n",
    "if os.path.exists(file_path) and os.stat(file_path).st_size > 0:\n",
    "    with open(file_path, 'r') as file:\n",
    "        contents = file.read()\n",
    "        print(\"File Contents:\\n\", contents)\n",
    "else:\n",
    "    print(\"File is either empty or does not exist.\")"
   ]
  },
  {
   "cell_type": "code",
   "execution_count": 80,
   "id": "f2da4727-6e63-414d-9159-1d2844c3a68d",
   "metadata": {},
   "outputs": [
    {
     "name": "stdout",
     "output_type": "stream",
     "text": [
      "An error occurred. Check 'file_errors.log' for details.\n"
     ]
    }
   ],
   "source": [
    "# 23. Write a Python program that writes to a log file when an error occurs during file handling.\n",
    "\n",
    "import logging\n",
    "\n",
    "# Set up logging\n",
    "logging.basicConfig(\n",
    "    filename='file_errors.log',\n",
    "    level=logging.ERROR,\n",
    "    format='%(asctime)s - %(levelname)s - %(message)s'\n",
    ")\n",
    "\n",
    "file_path = \"non_existing_file.txt\"\n",
    "\n",
    "try:\n",
    "    with open(file_path, 'r') as file:\n",
    "        contents = file.read()\n",
    "        print(contents)\n",
    "\n",
    "except Exception as e:\n",
    "    logging.error(f\"Error while handling the file '{file_path}': {e}\")\n",
    "    print(\"An error occurred. Check 'file_errors.log' for details.\")\n"
   ]
  },
  {
   "cell_type": "markdown",
   "id": "18402b9d-b39c-4e49-91c5-2739cf4fd1ab",
   "metadata": {},
   "source": [
    "### Thank you"
   ]
  }
 ],
 "metadata": {
  "kernelspec": {
   "display_name": "Python 3 (ipykernel)",
   "language": "python",
   "name": "python3"
  },
  "language_info": {
   "codemirror_mode": {
    "name": "ipython",
    "version": 3
   },
   "file_extension": ".py",
   "mimetype": "text/x-python",
   "name": "python",
   "nbconvert_exporter": "python",
   "pygments_lexer": "ipython3",
   "version": "3.12.7"
  }
 },
 "nbformat": 4,
 "nbformat_minor": 5
}
