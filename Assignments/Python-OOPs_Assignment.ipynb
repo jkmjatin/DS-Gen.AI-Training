{
 "cells": [
  {
   "cell_type": "markdown",
   "id": "6f56efce-6aab-4ebb-ac36-523944f904d0",
   "metadata": {},
   "source": [
    "# Assignment: Python OOPs\n",
    "Submitted by. Jatin Kumar Mehta\n",
    "<hr>"
   ]
  },
  {
   "cell_type": "markdown",
   "id": "73ac3770-881a-43ba-b6fb-2970dc700eb1",
   "metadata": {},
   "source": [
    "### Theory Questions  \n",
    "\n",
    "**1. What is Object-Oriented Programming (OOP)?**  \n",
    "- Ans: Object-Oriented Programming (OOP) is a way of writing code where we organize everything as objects, like real-world things—that have data (attributes) and can do actions (methods).  \n",
    "\n",
    "**2.  What is a class in OOP?**\n",
    "- Ans: A class in OOP is like a blueprint for creating objects. It defines what data (attributes) and actions (methods) the object will have.  \n",
    "\n",
    "**3. What is an object in OOP?**\n",
    "- Ans: An object in OOP is a real example of a class. It is created using a class and has its own data and can perform actions defined by the class.  \n",
    "\n",
    "**4. What is the difference between abstraction and encapsulation?**\n",
    "- Ans: Abstraction means hiding the complex details and showing only the important parts. While, encapsulation means hiding the data by wrapping it inside a class and protecting it from outside access.  \n",
    "- Abstraction hides how things work. While, Encapsulation hides the data and controls who can access it.  \n",
    "\n",
    "**5. What are dunder methods in Python?**\n",
    "- Ans: Dunder methods in Python are special methods that have double underscores at the beginning and end of their names (like ```__init__```, ```__str__```).  \n",
    "- They are used to give objects special behavior—like how they are created, printed, added, compared, etc.  \n",
    "\n",
    "**6. Explain the concept of inheritance in OOP.**\n",
    "- Ans: Inheritance in OOP means a class can reuse the features of another class. A child class (or subclass) gets the properties and methods of a parent class (or superclass), and can also add its own.  \n",
    "\n",
    "**7. What is polymorphism in OOP?**\n",
    "- Ans: Polymorphism in OOP means one function (or method) can work in different ways depending on the object. In simple words, It allows different classes to use the same method name but do different things.\n",
    "\n",
    "**8. How is encapsulation achieved in Python?**\n",
    "- Ans: Encapsulation in Python is achieved by using classes to group data (attributes) and methods together; and by restricting access to data using access modifiers.\n",
    "- ```public``` -> accessible everywhere\n",
    "- ```_protected``` -> meant for internal use or subclasses\n",
    "- ```__private``` -> strongly restricted, not directly accessible\n",
    "\n",
    "**9. What is a constructor in Python?**  \n",
    "- Ans: A constructor in Python is a special method called ```__init__()``` that automatically runs when an object is created from a class. It is used to initialize the object's data.\n",
    "- ```python\n",
    "  class Person:\n",
    "    def __init__(self, name):\n",
    "        self.name = name\n",
    "\n",
    "  p = Person(\"Jatin\")  # __init__() runs here\n",
    "  ```\n",
    "\n",
    "**10. What are class and static methods in Python?**\n",
    "- Ans: **Class Method:**\n",
    "  1. Defined using @classmethod\n",
    "  2. Takes cls as the first parameter\n",
    "  3. Can access class variables, not instance variables\n",
    "  4. Example:\n",
    "     ```python\n",
    "     @classmethod\n",
    "    def example(cls):\n",
    "        pass\n",
    "    ```\n",
    "- **Static Method:**\n",
    "  1. Defined using @staticmethod\n",
    "  2. Takes no special first argument (self or cls)\n",
    "  3. Can’t access instance or class variables\n",
    "  4. Used for utility/helper functions\n",
    "  5. Example:\n",
    "     ```python\n",
    "     @staticmethod\n",
    "    def example():\n",
    "        pass\n",
    "     ```\n",
    "\n",
    "**11. What is method overloading in Python?**\n",
    "- Ans: Method overloading in Python is the ability to define multiple methods with the same name but with different parameters.\n",
    "- However, Python doesn’t support traditional method overloading (like in Java or C++) directly. Instead, we can achieve it by using default parameters or variable-length arguments.\n",
    "- Example:\n",
    "    ```python\n",
    "      class Example:\n",
    "        def greet(self, name=\"Guest\"):\n",
    "            print(f\"Hello, {name}!\")\n",
    "\n",
    "    e = Example()\n",
    "    e.greet()         # Outputs: Hello, Guest!\n",
    "    e.greet(\"Jatin\")  # Outputs: Hello, Jatin!\n",
    "    ```\n",
    "\n",
    "**12. What is method overriding in OOP?**\n",
    "- Ans: Method overriding in OOP is when a child class provides its own implementation of a method that is already defined in its parent class. The child class \"overrides\" the parent method, allowing it to change or extend the behavior of that method.\n",
    "- Example:\n",
    "  ```python\n",
    "    class Animal:\n",
    "        def sound(self):\n",
    "            print(\"Animal makes a sound\")\n",
    "\n",
    "    class Dog(Animal):\n",
    "        def sound(self):\n",
    "            print(\"Dog barks\")\n",
    "\n",
    "    d = Dog()\n",
    "    d.sound()  # Outputs: Dog barks (overrides Animal's sound method)\n",
    "    ```\n",
    "\n",
    "**13. What is a property decorator in Python?**\n",
    "- Ans: The ```@property``` decorator in Python is used to define a getter method that allows you to access an attribute like a regular variable, but with added control or logic.\n",
    "- It lets you define methods that act like attributes — we can compute or modify values when accessing them without directly changing the attribute.\n",
    "\n",
    "**14. Why is polymorphism important in OOP?**\n",
    "- Ans: Polymorphism is important in OOP because it allows us to write flexible and reusable code. It lets us use the same method name for different objects, which can perform different actions based on their type.\n",
    "- This simplifies code and enhances maintainability by allowing different classes to be treated the same way while having unique behavior.\n",
    "\n",
    "**15. What is an abstract class in Python?**\n",
    "- Ans: An abstract class in Python is a class that cannot be instantiated directly and is meant to be inherited by other classes. It contains abstract methods (methods without implementation) that must be implemented by the child classes.\n",
    "- We define an abstract class using the ```abc``` module.\n",
    "- Example:\n",
    "  ```python\n",
    "    from abc import ABC, abstractmethod\n",
    "\n",
    "    class Animal(ABC):\n",
    "        @abstractmethod\n",
    "        def sound(self):\n",
    "            pass\n",
    "\n",
    "    class Dog(Animal):\n",
    "        def sound(self):\n",
    "            print(\"Bark\")\n",
    "\n",
    "    # a = Animal()  # This will raise an error\n",
    "    d = Dog()\n",
    "    d.sound()  # Outputs: Bark\n",
    "    ```\n",
    "\n",
    "**16. What are the advantages of OOP?**\n",
    "- Ans: The advantages of Object-Oriented Programming (OOP) are:\n",
    "    1. Code is organized into classes and objects, making it easier to manage and modify.\n",
    "    2. Classes and objects can be reused across different programs.\n",
    "    3. OOP allows polymorphism and inheritance, enabling easier code extension and maintenance.\n",
    "    4. Data is protected and can only be accessed through well-defined methods, improving security.\n",
    "    5. OOP makes code more understandable and easier to update or debug.\n",
    "- In short, OOP promotes better organization, reuse, and flexibility in programming.\n",
    "\n",
    "**17.  What is the difference between a class variable and an instance variable?**\n",
    "- Ans: **Class Variable:**\n",
    "    - Shared by all instances of the class.\n",
    "    - Defined inside the class, outside any methods.\n",
    "- **Instance Class:**\n",
    "    - Unique to each instance (object) of the class.\n",
    "    - Defined inside methods, typically in ```__init__```.\n",
    "\n",
    "**18. What is multiple inheritance in Python?**\n",
    "- Ans: Multiple inheritance in Python is when a class inherits from more than one class. The child class can inherit attributes and methods from multiple parent classes.\n",
    "- Example:\n",
    "  ```python\n",
    "    class Animal:\n",
    "        def speak(self):\n",
    "            print(\"Animal speaks\")\n",
    "\n",
    "    class Flyable:\n",
    "        def fly(self):\n",
    "            print(\"Flying\")\n",
    "\n",
    "    class Bird(Animal, Flyable):\n",
    "        pass\n",
    "\n",
    "    b = Bird()\n",
    "    b.speak()  # Outputs: Animal speaks\n",
    "    b.fly()    # Outputs: Flying\n",
    "    ```\n",
    "\n",
    "**19.Explain the purpose of ```‘__str__’``` and ```‘__repr__’``` methods in Python.**\n",
    "- Ans: The ```__str__``` and ```__repr__``` methods in Python are used to define how an object is represented as a string.\n",
    "- ```__str__```: Aimed at the user-friendly string representation of an object (used by print()).\n",
    "- Example: \"Dog\" when you print a dog object.\n",
    "- ```__repr__```: Aimed at the developer-friendly string representation, often for debugging. It should ideally return a valid Python expression to recreate the object.\n",
    "- Example: \"Dog(name='Buddy', age=3)\"\n",
    "\n",
    "**20. What is the significance of the ‘super()’ function in Python?**\n",
    "- Ans: The ```super()``` function in Python is used to call methods from the parent class (or superclass) in a child class. It is typically used in inheritance to extend or modify the behavior of a parent class method without completely overriding it.\n",
    "\n",
    "**21. What is the significance of the __del__ method in Python?**\n",
    "- Ans: The ```__del__``` method in Python is a special method called a destructor. It is automatically called when an object is destroyed or garbage collected, just before the object is removed from memory.\n",
    "- **Significance:**\n",
    "    - It is used to clean up resources (e.g., closing files, network connections) when an object is no longer needed.\n",
    "    - However, its use is rare, as Python has automatic garbage collection.\n",
    "\n",
    "**22. What is the difference between ```@staticmethod``` and ```@classmethod``` in Python?**\n",
    "- Ans: The difference between ```@staticmethod``` and ```@classmethod``` in Python:\n",
    "\n",
    "**```@staticmethod:```**\n",
    "  - Does not take self or cls as the first parameter.\n",
    "  - It behaves like a regular function but belongs to the class.\n",
    "  - Cannot access or modify instance or class variables.\n",
    "\n",
    "**```@classmethod:```**\n",
    "  - Takes cls as the first parameter (refers to the class).\n",
    "  - Can access and modify class variables but not instance variables.\n",
    "\n",
    "**23. How does polymorphism work in Python with inheritance?**\n",
    "- Ans: In Python, polymorphism with inheritance allows different classes to have methods with the same name, and the correct method is called based on the object type, even if you're using a reference to the parent class.\n",
    "- Example:\n",
    "  ```Python\n",
    "    class Animal:\n",
    "        def sound(self):\n",
    "            print(\"Some sound\")\n",
    "\n",
    "    class Dog(Animal):\n",
    "        def sound(self):\n",
    "            print(\"Bark\")\n",
    "\n",
    "    class Cat(Animal):\n",
    "        def sound(self):\n",
    "            print(\"Meow\")\n",
    "\n",
    "    # Polymorphism in action\n",
    "    def make_sound(animal):\n",
    "        animal.sound()\n",
    "\n",
    "    make_sound(Dog())  # Outputs: Bark\n",
    "    make_sound(Cat())  # Outputs: Meow\n",
    "    ```\n",
    "\n",
    "**24. What is method chaining in Python OOP?**\n",
    "- Ans: Method chaining in Python OOP means calling multiple methods on the same object in a single line, one after another. It works by having each method return self, so the next method can be called on the same object.\n",
    "\n",
    "**25. What is the purpose of the ```__call__``` method in Python?**\n",
    "- Ans: The __call__ method in Python lets an object be called like a function. It allows us to define custom behavior when an instance is \"called\" using parentheses ```()```.\n",
    "\n",
    "<hr>\n",
    "\n",
    "### Practical Questions"
   ]
  },
  {
   "cell_type": "code",
   "execution_count": 62,
   "id": "ea36bf55-6952-4f53-ba0a-967f82838e8c",
   "metadata": {},
   "outputs": [
    {
     "name": "stdout",
     "output_type": "stream",
     "text": [
      "The animal makes a sound.\n",
      "Bark!\n"
     ]
    }
   ],
   "source": [
    "# 1. Create a parent class Animal with a method speak() that prints a generic message. Create a child class Dog that overrides the speak() method to print \"Bark!\".\n",
    "class Animal:\n",
    "    def speak(self):\n",
    "        print(\"The animal makes a sound.\")\n",
    "\n",
    "class Dog(Animal):\n",
    "    def speak(self):\n",
    "        print(\"Bark!\")\n",
    "\n",
    "a = Animal()\n",
    "a.speak()\n",
    "\n",
    "d = Dog()\n",
    "d.speak()"
   ]
  },
  {
   "cell_type": "code",
   "execution_count": 64,
   "id": "f1ef3973-7292-4d28-84d5-f81dd717bca0",
   "metadata": {},
   "outputs": [
    {
     "name": "stdout",
     "output_type": "stream",
     "text": [
      "Circle Area: 78.53981633974483\n",
      "Rectangle Area: 24\n"
     ]
    }
   ],
   "source": [
    "# 2. Write a program to create an abstract class Shape with a method area(). Derive classes Circle and Rectangle from it and implement the area() method in both\n",
    "from abc import ABC, abstractmethod\n",
    "import math\n",
    "\n",
    "# Abstract class\n",
    "class Shape(ABC):\n",
    "    @abstractmethod\n",
    "    def area(self):\n",
    "        pass\n",
    "\n",
    "# Derived class: Circle\n",
    "class Circle(Shape):\n",
    "    def __init__(self, radius):\n",
    "        self.radius = radius\n",
    "\n",
    "    def area(self):\n",
    "        return math.pi * self.radius ** 2\n",
    "\n",
    "# Derived class: Rectangle\n",
    "class Rectangle(Shape):\n",
    "    def __init__(self, length, width):\n",
    "        self.length = length\n",
    "        self.width = width\n",
    "\n",
    "    def area(self):\n",
    "        return self.length * self.width\n",
    "\n",
    "c = Circle(5)\n",
    "print(\"Circle Area:\", c.area())\n",
    "\n",
    "r = Rectangle(4, 6)\n",
    "print(\"Rectangle Area:\", r.area())"
   ]
  },
  {
   "cell_type": "code",
   "execution_count": 66,
   "id": "ed8a4bc0-2eb3-48fa-ba66-64cf009a8da6",
   "metadata": {},
   "outputs": [
    {
     "name": "stdout",
     "output_type": "stream",
     "text": [
      "Type: Electric\n",
      "Brand: Tesla\n",
      "Battery: 75 kWh\n"
     ]
    }
   ],
   "source": [
    "# 3.  Implement a multi-level inheritance scenario where a class Vehicle has an attribute type. Derive a class Car and further derive a class ElectricCar that adds a battery attribute.\n",
    "\n",
    "# Base class\n",
    "class Vehicle:\n",
    "    def __init__(self, vehicle_type):\n",
    "        self.vehicle_type = vehicle_type\n",
    "\n",
    "# Derived class from Vehicle\n",
    "class Car(Vehicle):\n",
    "    def __init__(self, vehicle_type, brand):\n",
    "        super().__init__(vehicle_type)\n",
    "        self.brand = brand\n",
    "\n",
    "# Derived class from Car\n",
    "class ElectricCar(Car):\n",
    "    def __init__(self, vehicle_type, brand, battery):\n",
    "        super().__init__(vehicle_type, brand)\n",
    "        self.battery = battery\n",
    "\n",
    "    def display_info(self):\n",
    "        print(f\"Type: {self.vehicle_type}\")\n",
    "        print(f\"Brand: {self.brand}\")\n",
    "        print(f\"Battery: {self.battery} kWh\")\n",
    "\n",
    "# Testing\n",
    "e_car = ElectricCar(\"Electric\", \"Tesla\", 75)\n",
    "e_car.display_info()"
   ]
  },
  {
   "cell_type": "code",
   "execution_count": 82,
   "id": "69cb7360-7f77-420f-a311-7675aef85cd7",
   "metadata": {},
   "outputs": [
    {
     "name": "stdout",
     "output_type": "stream",
     "text": [
      "Sparrow flies high in the sky.\n",
      "Penguins can't fly, but they swim well.\n"
     ]
    }
   ],
   "source": [
    "# 4. Demonstrate polymorphism by creating a base class Bird with a method fly(). Create two derived classes Sparrow and Penguin that override the fly() method.\n",
    "\n",
    "# Base class\n",
    "class Bird:\n",
    "    def fly(self):\n",
    "        print(\"Some birds can fly.\")\n",
    "\n",
    "# Derived class: Sparrow\n",
    "class Sparrow(Bird):\n",
    "    def fly(self):\n",
    "        print(\"Sparrow flies high in the sky.\")\n",
    "\n",
    "# Derived class: Penguin\n",
    "class Penguin(Bird):\n",
    "    def fly(self):\n",
    "        print(\"Penguins can't fly, but they swim well.\")\n",
    "\n",
    "# Polymorphism in action\n",
    "def bird_fly(bird):\n",
    "    bird.fly()\n",
    "\n",
    "# Testing\n",
    "b1 = Sparrow()\n",
    "b2 = Penguin()\n",
    "\n",
    "bird_fly(b1)\n",
    "bird_fly(b2)"
   ]
  },
  {
   "cell_type": "code",
   "execution_count": 87,
   "id": "7e647af6-d09c-434a-8e94-d383b3364963",
   "metadata": {},
   "outputs": [
    {
     "name": "stdout",
     "output_type": "stream",
     "text": [
      "Current Balance: ₹1000\n",
      "Deposited: ₹500\n",
      "Withdrew: ₹300\n",
      "Current Balance: ₹1200\n"
     ]
    }
   ],
   "source": [
    "# 5. Write a program to demonstrate encapsulation by creating a class BankAccount with private attributes balance and methods to deposit, withdraw, and check balance.\n",
    "\n",
    "class BankAccount:\n",
    "    def __init__(self, initial_balance=0):\n",
    "        self.__balance = initial_balance  # Private attribute\n",
    "\n",
    "    def deposit(self, amount):\n",
    "        if amount > 0:\n",
    "            self.__balance += amount\n",
    "            print(f\"Deposited: ₹{amount}\")\n",
    "        else:\n",
    "            print(\"Invalid deposit amount.\")\n",
    "\n",
    "    def withdraw(self, amount):\n",
    "        if 0 < amount <= self.__balance:\n",
    "            self.__balance -= amount\n",
    "            print(f\"Withdrew: ₹{amount}\")\n",
    "        else:\n",
    "            print(\"Insufficient balance or invalid amount.\")\n",
    "\n",
    "    def check_balance(self):\n",
    "        print(f\"Current Balance: ₹{self.__balance}\")\n",
    "\n",
    "acc = BankAccount(1000)\n",
    "acc.check_balance()     # ₹1000\n",
    "acc.deposit(500)        # Deposited ₹500\n",
    "acc.withdraw(300)       # Withdrew ₹300\n",
    "acc.check_balance()     # ₹1200"
   ]
  },
  {
   "cell_type": "code",
   "execution_count": 93,
   "id": "a6b2fdee-d277-49f0-9611-54e661c248ba",
   "metadata": {},
   "outputs": [
    {
     "name": "stdout",
     "output_type": "stream",
     "text": [
      "Strumming the guitar.\n",
      "Playing the piano.\n"
     ]
    }
   ],
   "source": [
    "# 6. Demonstrate runtime polymorphism using a method play() in a base class Instrument. Derive classes Guitar and Piano that implement their own version of play()\n",
    "\n",
    "# Base class\n",
    "class Instrument:\n",
    "    def play(self):\n",
    "        print(\"Playing an instrument.\")\n",
    "\n",
    "# Derived class: Guitar\n",
    "class Guitar(Instrument):\n",
    "    def play(self):\n",
    "        print(\"Strumming the guitar.\")\n",
    "\n",
    "# Derived class: Piano\n",
    "class Piano(Instrument):\n",
    "    def play(self):\n",
    "        print(\"Playing the piano.\")\n",
    "\n",
    "# demonstrate runtime polymorphism\n",
    "def start_playing(instrument):\n",
    "    instrument.play()\n",
    "\n",
    "g = Guitar()\n",
    "p = Piano()\n",
    "\n",
    "start_playing(g)\n",
    "start_playing(p)"
   ]
  },
  {
   "cell_type": "code",
   "execution_count": 91,
   "id": "b5e667b4-9e19-4051-a953-375b6a497060",
   "metadata": {},
   "outputs": [
    {
     "name": "stdout",
     "output_type": "stream",
     "text": [
      "Addition: 15\n",
      "Subtraction: 5\n"
     ]
    }
   ],
   "source": [
    "# 7. Create a class MathOperations with a class method add_numbers() to add two numbers and a static method subtract_numbers() to subtract two numbers\n",
    "\n",
    "class MathOperations:\n",
    "    @classmethod\n",
    "    def add_numbers(cls, a, b):\n",
    "        return a + b\n",
    "\n",
    "    @staticmethod\n",
    "    def subtract_numbers(a, b):\n",
    "        return a - b\n",
    "\n",
    "# Testing\n",
    "print(\"Addition:\", MathOperations.add_numbers(10, 5))\n",
    "print(\"Subtraction:\", MathOperations.subtract_numbers(10, 5))"
   ]
  },
  {
   "cell_type": "code",
   "execution_count": 95,
   "id": "3799054d-ce22-4410-bf9a-6fd624e6c5a7",
   "metadata": {},
   "outputs": [
    {
     "name": "stdout",
     "output_type": "stream",
     "text": [
      "Total persons created: 3\n"
     ]
    }
   ],
   "source": [
    "# 8.  Implement a class Person with a class method to count the total number of persons created.\n",
    "\n",
    "class Person:\n",
    "    count = 0\n",
    "\n",
    "    def __init__(self, name, age):\n",
    "        self.name = name\n",
    "        self.age = age\n",
    "        Person.count += 1\n",
    "\n",
    "    @classmethod\n",
    "    def total_persons(cls):\n",
    "        return cls.count\n",
    "\n",
    "p1 = Person(\"Alice\", 25)\n",
    "p2 = Person(\"Bob\", 30)\n",
    "p3 = Person(\"Charlie\", 22)\n",
    "\n",
    "print(\"Total persons created:\", Person.total_persons())"
   ]
  },
  {
   "cell_type": "code",
   "execution_count": 101,
   "id": "cb821a2a-9383-41fc-8b99-20c9e4c5f8bd",
   "metadata": {},
   "outputs": [
    {
     "name": "stdout",
     "output_type": "stream",
     "text": [
      "3/4\n",
      "5/8\n"
     ]
    }
   ],
   "source": [
    "# 9. Write a class Fraction with attributes numerator and denominator. Override the str method to display the fraction as \"numerator/denominator\".\n",
    "\n",
    "class Fraction:\n",
    "    def __init__(self, numerator, denominator):\n",
    "        self.numerator = numerator\n",
    "        self.denominator = denominator\n",
    "\n",
    "    def __str__(self):\n",
    "        return f\"{self.numerator}/{self.denominator}\"\n",
    "\n",
    "# Testing\n",
    "f1 = Fraction(3, 4)\n",
    "f2 = Fraction(5, 8)\n",
    "\n",
    "print(f1)\n",
    "print(f2)"
   ]
  },
  {
   "cell_type": "code",
   "execution_count": 111,
   "id": "f71aefad-a046-44a4-b589-5d3737e2c567",
   "metadata": {},
   "outputs": [
    {
     "name": "stdout",
     "output_type": "stream",
     "text": [
      "v1 + v2 = (4, 6)\n"
     ]
    }
   ],
   "source": [
    "# 10. Demonstrate operator overloading by creating a class Vector and overriding the add method to add two vectors\n",
    "\n",
    "class Vector:\n",
    "    def __init__(self, x, y):\n",
    "        self.x = x\n",
    "        self.y = y\n",
    "\n",
    "    # Overloading the + operator to add two vectors\n",
    "    def __add__(self, other):\n",
    "        return Vector(self.x + other.x, self.y + other.y)\n",
    "\n",
    "    # Method to display the vector\n",
    "    def __str__(self):\n",
    "        return f\"({self.x}, {self.y})\"\n",
    "\n",
    "v1 = Vector(3, 4)\n",
    "v2 = Vector(1, 2)\n",
    "\n",
    "v3 = v1 + v2\n",
    "print(\"v1 + v2 =\", v3)"
   ]
  },
  {
   "cell_type": "code",
   "execution_count": 119,
   "id": "eae4c151-f312-4e8f-9109-9c4186551de1",
   "metadata": {},
   "outputs": [
    {
     "name": "stdout",
     "output_type": "stream",
     "text": [
      "Hello, my name is Alice and I am 25 years old.\n",
      "Hello, my name is Bob and I am 30 years old.\n"
     ]
    }
   ],
   "source": [
    "# 11. Create a class Person with attributes name and age. Add a method greet() that prints \"Hello, my name is {name} and I am {age} years old.\n",
    "\n",
    "class Person:\n",
    "    def __init__(self, name, age):\n",
    "        self.name = name\n",
    "        self.age = age\n",
    "\n",
    "    def greet(self):\n",
    "        print(f\"Hello, my name is {self.name} and I am {self.age} years old.\")\n",
    "\n",
    "# Testing\n",
    "person1 = Person(\"Alice\", 25)\n",
    "person1.greet()\n",
    "\n",
    "person2 = Person(\"Bob\", 30)\n",
    "person2.greet()"
   ]
  },
  {
   "cell_type": "code",
   "execution_count": 125,
   "id": "7b353a34-a380-45ed-b182-45c58300a717",
   "metadata": {},
   "outputs": [
    {
     "name": "stdout",
     "output_type": "stream",
     "text": [
      "Jatin's average grade: 86.25\n",
      "Bob's average grade: 75.0\n"
     ]
    }
   ],
   "source": [
    "# 12. Implement a class Student with attributes name and grades. Create a method average_grade() to compute the average of the grades.\n",
    "\n",
    "class Student:\n",
    "    def __init__(self, name, grades):\n",
    "        self.name = name\n",
    "        self.grades = grades\n",
    "\n",
    "    def average_grade(self):\n",
    "        if len(self.grades) == 0:\n",
    "            return 0\n",
    "        return sum(self.grades) / len(self.grades)\n",
    "\n",
    "student1 = Student(\"Jatin\", [85, 90, 78, 92])\n",
    "print(f\"{student1.name}'s average grade: {student1.average_grade()}\")\n",
    "\n",
    "student2 = Student(\"Bob\", [70, 75, 80])\n",
    "print(f\"{student2.name}'s average grade: {student2.average_grade()}\")"
   ]
  },
  {
   "cell_type": "code",
   "execution_count": 153,
   "id": "e487981d-f29d-440b-a758-6ee2a3df19f1",
   "metadata": {},
   "outputs": [
    {
     "name": "stdout",
     "output_type": "stream",
     "text": [
      "Area of the rectangle: 15\n",
      "Area of the rectangle: 14\n"
     ]
    }
   ],
   "source": [
    "# 13.  Create a class Rectangle with methods set_dimensions() to set the dimensions and area() to calculate the area.\n",
    "\n",
    "class Rectangle:\n",
    "    def __init__(self):\n",
    "        self.length = 0\n",
    "        self.width = 0\n",
    "\n",
    "    def set_dimensions(self, length, width):\n",
    "        self.length = length\n",
    "        self.width = width\n",
    "\n",
    "    def area(self):\n",
    "        return self.length * self.width\n",
    "\n",
    "rect1 = Rectangle()\n",
    "rect1.set_dimensions(5, 3)\n",
    "print(f\"Area of the rectangle: {rect1.area()}\")\n",
    "\n",
    "rect2 = Rectangle()\n",
    "rect2.set_dimensions(7, 2)\n",
    "print(f\"Area of the rectangle: {rect2.area()}\")"
   ]
  },
  {
   "cell_type": "code",
   "execution_count": 133,
   "id": "c3490b12-0cde-4cac-bec1-e6e7b6eed3f5",
   "metadata": {},
   "outputs": [
    {
     "name": "stdout",
     "output_type": "stream",
     "text": [
      "Employee's salary: $600\n",
      "Manager's salary: $1300\n"
     ]
    }
   ],
   "source": [
    "# 14. Create a class Employee with a method calculate_salary() that computes the salary based on hours worked and hourly rate. Create a derived class Manager that adds a bonus to the salary\n",
    "\n",
    "# Base class: Employee\n",
    "class Employee:\n",
    "    def __init__(self, name, hours_worked, hourly_rate):\n",
    "        self.name = name\n",
    "        self.hours_worked = hours_worked\n",
    "        self.hourly_rate = hourly_rate\n",
    "\n",
    "    def calculate_salary(self):\n",
    "        return self.hours_worked * self.hourly_rate\n",
    "\n",
    "# Derived class: Manager\n",
    "class Manager(Employee):\n",
    "    def __init__(self, name, hours_worked, hourly_rate, bonus):\n",
    "        super().__init__(name, hours_worked, hourly_rate)\n",
    "        self.bonus = bonus\n",
    "\n",
    "    # Override the calculate_salary method to include bonus\n",
    "    def calculate_salary(self):\n",
    "        return super().calculate_salary() + self.bonus\n",
    "\n",
    "# Testing\n",
    "emp = Employee(\"John\", 40, 15)\n",
    "print(f\"Employee's salary: ${emp.calculate_salary()}\")\n",
    "\n",
    "mgr = Manager(\"Alice\", 40, 20, 500)\n",
    "print(f\"Manager's salary: ${mgr.calculate_salary()}\")"
   ]
  },
  {
   "cell_type": "code",
   "execution_count": 147,
   "id": "eab56f25-d218-412e-b250-5b2e8d9d8d48",
   "metadata": {},
   "outputs": [
    {
     "name": "stdout",
     "output_type": "stream",
     "text": [
      "Total price of Laptop: $3000\n",
      "Total price of Phone: $2500\n"
     ]
    }
   ],
   "source": [
    "# 15. Create a class Product with attributes name, price, and quantity. Implement a method total_price() that calculates the total price of the product.\n",
    "\n",
    "class Product:\n",
    "    def __init__(self, name, price, quantity):\n",
    "        self.name = name\n",
    "        self.price = price\n",
    "        self.quantity = quantity\n",
    "\n",
    "    def total_price(self):\n",
    "        return self.price * self.quantity\n",
    "\n",
    "product1 = Product(\"Laptop\", 1000, 3)\n",
    "print(f\"Total price of {product1.name}: ${product1.total_price()}\")\n",
    "\n",
    "product2 = Product(\"Phone\", 500, 5)\n",
    "print(f\"Total price of {product2.name}: ${product2.total_price()}\")"
   ]
  },
  {
   "cell_type": "code",
   "execution_count": 137,
   "id": "8a525082-088d-42ac-a749-fa02bb8f5f22",
   "metadata": {},
   "outputs": [
    {
     "name": "stdout",
     "output_type": "stream",
     "text": [
      "Moo\n",
      "Baa\n"
     ]
    }
   ],
   "source": [
    "# 16.  Create a class Animal with an abstract method sound(). Create two derived classes Cow and Sheep that implement the sound() method.\n",
    "\n",
    "from abc import ABC, abstractmethod\n",
    "\n",
    "# Abstract base class Animal\n",
    "class Animal(ABC):\n",
    "    @abstractmethod\n",
    "    def sound(self):\n",
    "        pass\n",
    "\n",
    "# Derived class Cow\n",
    "class Cow(Animal):\n",
    "    def sound(self):\n",
    "        print(\"Moo\")\n",
    "\n",
    "# Derived class Sheep\n",
    "class Sheep(Animal):\n",
    "    def sound(self):\n",
    "        print(\"Baa\")\n",
    "\n",
    "cow = Cow()\n",
    "cow.sound()\n",
    "\n",
    "sheep = Sheep()\n",
    "sheep.sound() "
   ]
  },
  {
   "cell_type": "code",
   "execution_count": 151,
   "id": "ab6c0026-541f-41a9-8fe9-45c78cd9d125",
   "metadata": {},
   "outputs": [
    {
     "name": "stdout",
     "output_type": "stream",
     "text": [
      "'The Great Gatsby' by F. Scott Fitzgerald, published in 1925\n",
      "'1984' by George Orwell, published in 1949\n"
     ]
    }
   ],
   "source": [
    "# 17. Create a class Book with attributes title, author, and year_published. Add a method get_book_info() that returns a formatted string with the book's details.\n",
    "\n",
    "class Book:\n",
    "    def __init__(self, title, author, year_published):\n",
    "        self.title = title\n",
    "        self.author = author\n",
    "        self.year_published = year_published\n",
    "\n",
    "    def get_book_info(self):\n",
    "        return f\"'{self.title}' by {self.author}, published in {self.year_published}\"\n",
    "\n",
    "book1 = Book(\"The Great Gatsby\", \"F. Scott Fitzgerald\", 1925)\n",
    "print(book1.get_book_info())\n",
    "\n",
    "book2 = Book(\"1984\", \"George Orwell\", 1949)\n",
    "print(book2.get_book_info())"
   ]
  },
  {
   "cell_type": "code",
   "execution_count": 155,
   "id": "03608405-d5bd-479b-8a31-3f3c93f08bc4",
   "metadata": {},
   "outputs": [
    {
     "name": "stdout",
     "output_type": "stream",
     "text": [
      "House located at 123 Main St, priced at $250000\n",
      "Mansion located at 456 Luxury Rd, priced at $5000000, with 10 rooms.\n"
     ]
    }
   ],
   "source": [
    "# 18. Create a class House with attributes address and price. Create a derived class Mansion that adds an attribute number_of_rooms.\n",
    "\n",
    "# Base class: House\n",
    "class House:\n",
    "    def __init__(self, address, price):\n",
    "        self.address = address\n",
    "        self.price = price\n",
    "\n",
    "# Derived class: Mansion\n",
    "class Mansion(House):\n",
    "    def __init__(self, address, price, number_of_rooms):\n",
    "        super().__init__(address, price)\n",
    "        self.number_of_rooms = number_of_rooms\n",
    "\n",
    "    # Method to display mansion details\n",
    "    def display_details(self):\n",
    "        return f\"Mansion located at {self.address}, priced at ${self.price}, with {self.number_of_rooms} rooms.\"\n",
    "\n",
    "house = House(\"123 Main St\", 250000)\n",
    "print(f\"House located at {house.address}, priced at ${house.price}\")\n",
    "\n",
    "mansion = Mansion(\"456 Luxury Rd\", 5000000, 10)\n",
    "print(mansion.display_details())"
   ]
  },
  {
   "cell_type": "markdown",
   "id": "aec2998a-67c7-4e4a-bdfd-a0264d7abfbe",
   "metadata": {},
   "source": [
    "### Thank You!"
   ]
  }
 ],
 "metadata": {
  "kernelspec": {
   "display_name": "Python 3 (ipykernel)",
   "language": "python",
   "name": "python3"
  },
  "language_info": {
   "codemirror_mode": {
    "name": "ipython",
    "version": 3
   },
   "file_extension": ".py",
   "mimetype": "text/x-python",
   "name": "python",
   "nbconvert_exporter": "python",
   "pygments_lexer": "ipython3",
   "version": "3.12.7"
  }
 },
 "nbformat": 4,
 "nbformat_minor": 5
}
