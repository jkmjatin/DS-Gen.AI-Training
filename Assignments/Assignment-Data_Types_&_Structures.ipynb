{
 "cells": [
  {
   "cell_type": "markdown",
   "id": "7e7ca059-8cdc-44ff-aef9-4b0647020598",
   "metadata": {},
   "source": [
    "# Assignment: Data Types and Structures\n",
    "Submitted By. Jatin Kumar Mehta\n",
    "<hr>"
   ]
  },
  {
   "cell_type": "markdown",
   "id": "df1ef92f-69ef-4855-b289-35fe8fcb0f69",
   "metadata": {},
   "source": [
    "### Theory Questions\n",
    "\n",
    "**1.  What are data structures, and why are they important?**  \n",
    "- Ans: Data structures are organized ways of storing and managing data to enable efficient access, modification, and processing. They include arrays, lists, stacks, queues, etc.  \n",
    "They are crucial in computer science and programming because they optimize data handling, improve algorithm efficiency, and enable problem-solving in various applications like databases, operating systems, artificial intelligence, and game development.  \n",
    "\n",
    "**2.  Explain the difference between mutable and immutable data types with examples.**  \n",
    "- Ans: Mutable data types can be changed after creation (e.g., lists, dictionaries), while immutable data types cannot be modified after creation (e.g., tuples, strings).  \n",
    "\n",
    "**3.  What are the main differences between lists and tuples in Python?**  \n",
    "- Ans: The main differences between lists and tuples in Python are:  \n",
    "1. Mutability – Lists are mutable (can be modified), while tuples are immutable (cannot be changed).  \n",
    "2. Performance – Tuples are faster than lists due to their immutability.  \n",
    "3. Memory Usage – Tuples consume less memory compared to lists.  \n",
    "4. Syntax – Lists use square brackets '[]', whereas tuples use parentheses '()'.  \n",
    "5. Usage – Lists are used for dynamic data, while tuples are preferred for fixed, unchangeable data.  \n",
    "\n",
    "**4.  Describe how dictionaries store data.**  \n",
    "Ans: Dictionaries in Python store data as key-value pairs using a hashing mechanism. Each key is unique and maps to a specific value, enabling fast lookups, insertions, and deletions. Python uses a hash table to optimize dictionary operations, making them highly efficient for retrieving data based on keys.  \n",
    "\n",
    "**5.  Why might you use a set instead of a list in Python?**  \n",
    "- Ans: We might use a set instead of a list when it need unique elements and fast lookups. Sets automatically remove duplicates. However, sets are unordered, so they don’t support indexing like lists.  \n",
    "\n",
    "**6.  What is a string in Python, and how is it different from a list?**  \n",
    "- Ans: A string in Python is a sequence of characters enclosed in quotes (\" \" or ' '), used to represent text. Unlike lists, strings are immutable (cannot be modified after creation), whereas lists are mutable (can be changed). Additionally, lists can hold different data types, but strings only store characters.  \n",
    "\n",
    "**7.  How do tuples ensure data integrity in Python?**  \n",
    "- Ans: Tuples ensure data integrity in Python by being immutable, meaning their elements cannot be changed, added, or removed after creation. This prevents accidental modifications, making tuples ideal for storing fixed, reliable data.  \n",
    "\n",
    "**8.  What is a hash table, and how does it relate to dictionaries in Python?**  \n",
    "- Ans: A hash table is a data structure that stores key-value pairs using a hashing function for fast lookups. In Python, dictionaries are implemented using hash tables, allowing O(1) average-time complexity for accessing, inserting, and deleting elements.  \n",
    "\n",
    "**9.  Can lists contain different data types in Python?**  \n",
    "- Ans: Yes, a list contain different data types in Python. Eg. ```my_list = [1, 2.3, True, 'text', 2+3j]```\n",
    "\n",
    "**10.  Explain why strings are immutable in Python?**  \n",
    "- Ans: Strings are immutable in Python to make them faster, safer, and more memory-efficient. This means they can’t be changed after creation, which helps in storing and reusing them efficiently.  \n",
    "\n",
    "**11. What advantages do dictionaries offer over lists for certain tasks?**  \n",
    "- Ans: Dictionaries offer faster lookups (O(1) average time) using keys, while lists require O(n) time for searches. They also provide key-value mapping, making data more structured and easier to access compared to lists, which store elements sequentially.  \n",
    "\n",
    "**12.  Describe a scenario where using a tuple would be preferable over a list.**  \n",
    "- Ans: A tuple is preferable when storing constant data that should not change, such as coordinates (x, y), database records, or days of the week, ensuring data integrity and better performance compared to a list.\n",
    "- Eg: Consider the following example where the tuple stores the roll numbers of students, which has to remain constant.\n",
    "  ```roll_no_tuple = (100,101,102,103,104)```  \n",
    "\n",
    "**13.  How do sets handle duplicate values in Python?**  \n",
    "- Ans: Sets automatically remove duplicate values, ensuring that each element is unique. If duplicates are added, the set keeps only one instance of each value.  \n",
    "\n",
    "**14. How does the “in” keyword work differently for lists and dictionaries?**  \n",
    "- Ans: In lists, the `in` keyword checks if a value exists (`O(n) time`).  \n",
    "In dictionaries, `in` checks for keys, not values (`O(1) average time`).  \n",
    "\n",
    "**15.  Can you modify the elements of a tuple? Explain why or why not.**  \n",
    "- Ans: No, you cannot modify elements of a tuple because tuples are immutable, meaning their contents cannot be changed, added, or removed after creation.  \n",
    "\n",
    "**16. What is a nested dictionary, and give an example of its use case.**  \n",
    "- Ans: A nested dictionary is a dictionary inside another dictionary, used to store structured data like records, configurations, or hierarchical information.  \n",
    "Example, Use Case: Storing student details  \n",
    "```python\n",
    "students = {\n",
    "    \"Alice\": {\"age\": 20, \"grade\": \"A\"},\n",
    "    \"Bob\": {\"age\": 22, \"grade\": \"B\"}\n",
    "}\n",
    "print(students[\"Alice\"][\"grade\"])  \n",
    "```\n",
    "\n",
    "**17. Describe the time complexity of accessing elements in a dictionary.**  \n",
    "- Ans: Accessing elements in a dictionary has an average time complexity of O(1) due to its hash table implementation, but in the worst case (hash collisions), it can be O(n).  \n",
    "\n",
    "**18.  In what situations are lists preferred over dictionaries?**  \n",
    "- Ans: Lists are preferred when order matters, duplicate values are needed, or when data is accessed by position (indexing) rather than by a key, such as in sequences, stacks, or iterative operations.  \n",
    "\n",
    "**19. Why are dictionaries considered unordered, and how does that affect data retrieval?**\n",
    "- Ans: Dictionaries were unordered before Python 3.7, meaning key-value pairs had no fixed order. Since Python 3.7+, they maintain insertion order, but retrieval is still based on keys, not positions, unlike lists.\n",
    "\n",
    "**20.  Explain the difference between a list and a dictionary in terms of data retrieval.**\n",
    "- Ans: In a list, data is retrieved by index, while in a dictionary, data is retrieved by key. Lists maintain order, whereas dictionaries store key-value pairs for fast lookups. Consider the following example:\n",
    "```python\n",
    "my_list = [1,2,3,4,5]\n",
    "my_dict = [1:'Apple', 2:'Banana', 3:'Mango', 4:'Pineapple', 5:'Orange']\n",
    "print(my_list[2])\n",
    "print(my_dict[3])\n",
    "```"
   ]
  },
  {
   "cell_type": "markdown",
   "id": "ea0fd6d9-4b5d-4307-8df3-090df5237a7d",
   "metadata": {},
   "source": [
    "### Practical Quesitons"
   ]
  },
  {
   "cell_type": "code",
   "execution_count": 3,
   "id": "4375ac2e-f9ad-4158-befa-5c1c3940fad8",
   "metadata": {},
   "outputs": [
    {
     "name": "stdout",
     "output_type": "stream",
     "text": [
      "Jatin Kumar Mehta\n"
     ]
    }
   ],
   "source": [
    "# 1. Write a code to create a string with your name and print it.\n",
    "\n",
    "text = 'Jatin Kumar Mehta' # create a string with name\n",
    "print(text) # print it as output"
   ]
  },
  {
   "cell_type": "code",
   "execution_count": 7,
   "id": "c0e303a0-eddf-40d6-8c1b-dca3f17bf243",
   "metadata": {},
   "outputs": [
    {
     "name": "stdout",
     "output_type": "stream",
     "text": [
      "11\n",
      "11\n"
     ]
    }
   ],
   "source": [
    "# 2. Write a code to find the length of the string \"Hello World\"\n",
    "\n",
    "# Case 1:\n",
    "print(len('Hello World'))\n",
    "\n",
    "# Case 2:\n",
    "text = 'Hello World'\n",
    "print(len(text))"
   ]
  },
  {
   "cell_type": "code",
   "execution_count": 11,
   "id": "4c896a46-94b3-4424-979a-0b0c045c3b2f",
   "metadata": {},
   "outputs": [
    {
     "name": "stdout",
     "output_type": "stream",
     "text": [
      "Pyt\n"
     ]
    }
   ],
   "source": [
    "# 3. Write a code to slice the first 3 characters from the string \"Python Programming\".\n",
    "\n",
    "text = 'Python Programming'\n",
    "print(text[:3])"
   ]
  },
  {
   "cell_type": "code",
   "execution_count": 15,
   "id": "87def13e-fdef-4f81-b2b6-86b8bedbdef4",
   "metadata": {},
   "outputs": [
    {
     "name": "stdout",
     "output_type": "stream",
     "text": [
      "HELLO\n"
     ]
    }
   ],
   "source": [
    "# 4. Write a code to convert the string \"hello\" to uppercase.\n",
    "\n",
    "print('hello'.upper())"
   ]
  },
  {
   "cell_type": "code",
   "execution_count": 47,
   "id": "77e11be2-990a-40e7-ae3d-05fbb68b3998",
   "metadata": {},
   "outputs": [
    {
     "name": "stdout",
     "output_type": "stream",
     "text": [
      "I like orange\n"
     ]
    }
   ],
   "source": [
    "# 5. Write a code to replace the word \"apple\" with \"orange\" in the string \"I like apple\".\n",
    "\n",
    "text = 'I like apple'\n",
    "update_text = text.replace('apple','orange')\n",
    "print(update_text)"
   ]
  },
  {
   "cell_type": "code",
   "execution_count": 49,
   "id": "3e1d7052-8049-4452-9361-85734b6d7bb8",
   "metadata": {},
   "outputs": [
    {
     "name": "stdout",
     "output_type": "stream",
     "text": [
      "[1, 2, 3, 4, 5]\n"
     ]
    }
   ],
   "source": [
    "# 6.  Write a code to create a list with numbers 1 to 5 and print it.\n",
    "\n",
    "req_list = list(range(1,6))\n",
    "print(req_list)"
   ]
  },
  {
   "cell_type": "code",
   "execution_count": 51,
   "id": "eebf151d-53dc-46ea-a9de-4fa6c2369961",
   "metadata": {},
   "outputs": [
    {
     "name": "stdout",
     "output_type": "stream",
     "text": [
      "[1, 2, 3, 4, 10]\n"
     ]
    }
   ],
   "source": [
    "# 7. Write a code to append the number 10 to the list [1, 2, 3, 4].\n",
    "\n",
    "given_list = [1, 2, 3, 4]\n",
    "given_list.append(10)\n",
    "print(given_list)"
   ]
  },
  {
   "cell_type": "code",
   "execution_count": 53,
   "id": "bb2f7355-c7d9-429c-a10c-d602caf03419",
   "metadata": {},
   "outputs": [
    {
     "name": "stdout",
     "output_type": "stream",
     "text": [
      "[1, 2, 4, 5]\n"
     ]
    }
   ],
   "source": [
    "# 8. Write a code to remove the number 3 from the list [1, 2, 3, 4, 5].\n",
    "\n",
    "given_list = [1, 2, 3, 4, 5]\n",
    "given_list.remove(3)\n",
    "print(given_list)"
   ]
  },
  {
   "cell_type": "code",
   "execution_count": 55,
   "id": "792e28dd-c1aa-4808-bd33-342dda0578fd",
   "metadata": {},
   "outputs": [
    {
     "name": "stdout",
     "output_type": "stream",
     "text": [
      "b\n"
     ]
    }
   ],
   "source": [
    "# 9.  Write a code to access the second element in the list ['a', 'b', 'c', 'd'].\n",
    "\n",
    "given_list = ['a', 'b', 'c', 'd']\n",
    "print(given_list[1])"
   ]
  },
  {
   "cell_type": "code",
   "execution_count": 57,
   "id": "59ce12ac-a5d1-4e91-8112-431661fa9959",
   "metadata": {},
   "outputs": [
    {
     "name": "stdout",
     "output_type": "stream",
     "text": [
      "[50, 40, 30, 20, 10]\n",
      "[50, 40, 30, 20, 10]\n"
     ]
    }
   ],
   "source": [
    "# 10.  Write a code to reverse the list [10, 20, 30, 40, 50].\n",
    "\n",
    "# We have 2 simple ways to do this:\n",
    "given_list = [10, 20, 30, 40, 50]\n",
    "\n",
    "# i. Slicing\n",
    "update_list = given_list[::-1]\n",
    "print(update_list)\n",
    "\n",
    "# ii. reverse() method\n",
    "given_list.reverse()\n",
    "print(given_list)"
   ]
  },
  {
   "cell_type": "code",
   "execution_count": 63,
   "id": "9f810ef1-e547-4c82-8546-9727f453481e",
   "metadata": {},
   "outputs": [
    {
     "name": "stdout",
     "output_type": "stream",
     "text": [
      "(100, 200, 300)\n"
     ]
    }
   ],
   "source": [
    "# 11. Write a code to create a tuple with the elements 100, 200, 300 and print it.\n",
    "\n",
    "req_tuple = (100,200,300)\n",
    "print(req_tuple)"
   ]
  },
  {
   "cell_type": "code",
   "execution_count": 69,
   "id": "c41ce71c-358c-4804-a023-c44945b31f19",
   "metadata": {},
   "outputs": [
    {
     "name": "stdout",
     "output_type": "stream",
     "text": [
      "blue\n",
      "blue\n"
     ]
    }
   ],
   "source": [
    " # 12. Write a code to access the second-to-last element of the tuple ('red', 'green', 'blue', 'yellow').\n",
    "\n",
    "given_tuple = ('red', 'green', 'blue', 'yellow')\n",
    "print(given_tuple[-2]) # method 1\n",
    "print(given_tuple[2]) # method 2"
   ]
  },
  {
   "cell_type": "code",
   "execution_count": 73,
   "id": "dd3fba01-2c5a-4ea0-bf7a-0c6db614194b",
   "metadata": {},
   "outputs": [
    {
     "name": "stdout",
     "output_type": "stream",
     "text": [
      "5\n"
     ]
    }
   ],
   "source": [
    "# 13.  Write a code to find the minimum number in the tuple (10, 20, 5, 15).\n",
    "\n",
    "given_tuple = (10, 20, 5, 15)\n",
    "print(min(given_tuple))"
   ]
  },
  {
   "cell_type": "code",
   "execution_count": 81,
   "id": "f89ed90c-bcba-4bff-b8c9-9d6620af2c02",
   "metadata": {},
   "outputs": [
    {
     "name": "stdout",
     "output_type": "stream",
     "text": [
      "1\n"
     ]
    }
   ],
   "source": [
    "# 14. Write a code to find the index of the element \"cat\" in the tuple ('dog', 'cat', 'rabbit').\n",
    "\n",
    "given_tuple = ('dog', 'cat', 'rabbit')\n",
    "print(given_tuple.index('cat'))"
   ]
  },
  {
   "cell_type": "code",
   "execution_count": 89,
   "id": "8f81a5b2-2a69-41ef-a1db-5865afad2c65",
   "metadata": {},
   "outputs": [
    {
     "name": "stdout",
     "output_type": "stream",
     "text": [
      "Found Kiwi at index 2\n"
     ]
    }
   ],
   "source": [
    "# 15. Write a code to create a tuple containing three different fruits and check if \"kiwi\" is in it.\n",
    "\n",
    "given_tuple = ('mango', 'banana', 'kiwi')\n",
    "\n",
    "if 'kiwi' in given_tuple:\n",
    "    print(f'Found Kiwi at index {given_tuple.index('kiwi')}')\n",
    "else:\n",
    "    print('Kiwi Not Found!')"
   ]
  },
  {
   "cell_type": "code",
   "execution_count": 93,
   "id": "91cc4cbd-8c31-47f2-82ff-4719fc6ccb09",
   "metadata": {},
   "outputs": [
    {
     "name": "stdout",
     "output_type": "stream",
     "text": [
      "{'a', 'c', 'b'}\n"
     ]
    }
   ],
   "source": [
    "# 16. Write a code to create a set with the elements 'a', 'b', 'c' and print it.\n",
    "\n",
    "req_set = {'a','b','c'}\n",
    "print(req_set)"
   ]
  },
  {
   "cell_type": "code",
   "execution_count": 96,
   "id": "c178e8e9-df83-470e-abb4-446be2c122b4",
   "metadata": {},
   "outputs": [
    {
     "name": "stdout",
     "output_type": "stream",
     "text": [
      "set()\n"
     ]
    }
   ],
   "source": [
    "# 17. Write a code to clear all elements from the set {1, 2, 3, 4, 5}.\n",
    "\n",
    "given_set = {1, 2, 3, 4, 5}\n",
    "given_set.clear()\n",
    "print(given_set)"
   ]
  },
  {
   "cell_type": "code",
   "execution_count": 98,
   "id": "870defc0-0612-4440-9376-0bf4ad264807",
   "metadata": {},
   "outputs": [
    {
     "name": "stdout",
     "output_type": "stream",
     "text": [
      "{1, 2, 3}\n"
     ]
    }
   ],
   "source": [
    "# 18.  Write a code to remove the element 4 from the set {1, 2, 3, 4}.\n",
    "\n",
    "given_set = {1, 2, 3, 4}\n",
    "given_set.remove(4)\n",
    "print(given_set)"
   ]
  },
  {
   "cell_type": "code",
   "execution_count": 102,
   "id": "6b44b37f-55d8-4841-b5df-ada20b93b936",
   "metadata": {},
   "outputs": [
    {
     "name": "stdout",
     "output_type": "stream",
     "text": [
      "{1, 2, 3, 4, 5}\n"
     ]
    }
   ],
   "source": [
    "# 19. Write a code to find the union of two sets {1, 2, 3} and {3, 4, 5}.\n",
    "\n",
    "given_set_1 = {1,2,3}\n",
    "given_set_2 = {3,4,5}\n",
    "print(set.union(given_set_1, given_set_2))"
   ]
  },
  {
   "cell_type": "code",
   "execution_count": 104,
   "id": "091aa420-ffff-4256-bc13-b0b4e9c506f5",
   "metadata": {},
   "outputs": [
    {
     "name": "stdout",
     "output_type": "stream",
     "text": [
      "{2, 3}\n"
     ]
    }
   ],
   "source": [
    "# 20. Write a code to find the intersection of two sets {1, 2, 3} and {2, 3, 4}.\n",
    "\n",
    "given_set_1 = {1,2,3}\n",
    "given_set_2 = {2,3,4}\n",
    "print(set.intersection(given_set_1, given_set_2))"
   ]
  },
  {
   "cell_type": "code",
   "execution_count": 108,
   "id": "6b8ae108-b5fe-44c3-9a92-3919ba19331b",
   "metadata": {},
   "outputs": [
    {
     "name": "stdout",
     "output_type": "stream",
     "text": [
      "{'name': 'Jatin', 'age': 21, 'city': 'Meerut'}\n"
     ]
    }
   ],
   "source": [
    "# 21. Write a code to create a dictionary with the keys \"name\", \"age\", and \"city\", and print it.\n",
    "\n",
    "req_dict = {'name':'Jatin', 'age':21, 'city':'Meerut'}\n",
    "print(req_dict)"
   ]
  },
  {
   "cell_type": "code",
   "execution_count": 114,
   "id": "4df2008f-23f1-4d44-a919-516fa16a8e3e",
   "metadata": {},
   "outputs": [
    {
     "name": "stdout",
     "output_type": "stream",
     "text": [
      "{'name': 'John', 'age': 25, 'country': 'USA'}\n"
     ]
    }
   ],
   "source": [
    "# 22. Write a code to add a new key-value pair \"country\": \"USA\" to the dictionary {'name': 'John', 'age': 25}.\n",
    "\n",
    "given_dict = {'name': 'John', 'age': 25}\n",
    "given_dict['country'] = 'USA'\n",
    "print(given_dict)"
   ]
  },
  {
   "cell_type": "code",
   "execution_count": 116,
   "id": "12cd27fa-d312-4633-bfa6-8fdda56c91d4",
   "metadata": {},
   "outputs": [
    {
     "name": "stdout",
     "output_type": "stream",
     "text": [
      "Alice\n"
     ]
    }
   ],
   "source": [
    "# 23. Write a code to access the value associated with the key \"name\" in the dictionary {'name': 'Alice', 'age': 30}.\n",
    "\n",
    "person = {'name': 'Alice', 'age': 30}\n",
    "name_value = person['name']\n",
    "print(name_value)"
   ]
  },
  {
   "cell_type": "code",
   "execution_count": 118,
   "id": "6d9373bd-ec67-461f-8299-720a98b4e1a9",
   "metadata": {},
   "outputs": [
    {
     "name": "stdout",
     "output_type": "stream",
     "text": [
      "{'name': 'Bob', 'city': 'New York'}\n"
     ]
    }
   ],
   "source": [
    "# 24.  Write a code to remove the key \"age\" from the dictionary {'name': 'Bob', 'age': 22, 'city': 'New York'}.\n",
    "\n",
    "person = {'name': 'Bob', 'age': 22, 'city': 'New York'}\n",
    "person.pop('age')\n",
    "print(person)"
   ]
  },
  {
   "cell_type": "code",
   "execution_count": 120,
   "id": "0012d302-5de3-4419-bce1-3bfbddd8b7a0",
   "metadata": {},
   "outputs": [
    {
     "name": "stdout",
     "output_type": "stream",
     "text": [
      "Key exists\n"
     ]
    }
   ],
   "source": [
    "# 25. Write a code to check if the key \"city\" exists in the dictionary {'name': 'Alice', 'city': 'Paris'}.\n",
    "\n",
    "person = {'name': 'Alice', 'city': 'Paris'}\n",
    "\n",
    "if 'city' in person:\n",
    "    print(\"Key exists\")  # Output: Key exists\n",
    "else:\n",
    "    print(\"Key does not exist\")"
   ]
  },
  {
   "cell_type": "code",
   "execution_count": 124,
   "id": "0ddb699c-57dc-4e4c-ad21-a0024f9b55e1",
   "metadata": {},
   "outputs": [
    {
     "name": "stdout",
     "output_type": "stream",
     "text": [
      "List: [1, 2, 3, 4, 5]\n",
      "Tuple: (10, 20, 30)\n",
      "Dictionary: {'name': 'Alice', 'age': 25}\n"
     ]
    }
   ],
   "source": [
    "# 26. Write a code to create a list, a tuple, and a dictionary, and print them all.\n",
    "\n",
    "# Creating a list, tuple, and dictionary\n",
    "my_list = [1, 2, 3, 4, 5]\n",
    "my_tuple = (10, 20, 30)\n",
    "my_dict = {'name': 'Alice', 'age': 25}\n",
    "\n",
    "# Printing them\n",
    "print(\"List:\", my_list)\n",
    "print(\"Tuple:\", my_tuple) \n",
    "print(\"Dictionary:\", my_dict) "
   ]
  },
  {
   "cell_type": "code",
   "execution_count": 130,
   "id": "f062d488-36b8-4a4d-a7a5-50cc398bf6c2",
   "metadata": {},
   "outputs": [
    {
     "name": "stdout",
     "output_type": "stream",
     "text": [
      "Sorted List: [3, 42, 82, 89, 95]\n"
     ]
    }
   ],
   "source": [
    "# 27. Write a code to create a list of 5 random numbers between 1 and 100, sort it in ascending order, and print the result. (replaced)\n",
    "\n",
    "random_numbers = random.sample(range(1, 101), 5)\n",
    "random_numbers.sort()\n",
    "\n",
    "print(\"Sorted List:\", random_numbers)"
   ]
  },
  {
   "cell_type": "code",
   "execution_count": 132,
   "id": "6fd79ba9-6c80-4c09-8e7f-cff1edd98599",
   "metadata": {},
   "outputs": [
    {
     "name": "stdout",
     "output_type": "stream",
     "text": [
      "date\n"
     ]
    }
   ],
   "source": [
    "# 28. Write a code to create a list with strings and print the element at the third index.\n",
    "\n",
    "my_list = [\"apple\", \"banana\", \"cherry\", \"date\", \"elderberry\"]\n",
    "print(my_list[3])"
   ]
  },
  {
   "cell_type": "code",
   "execution_count": 134,
   "id": "9735d579-e965-4714-bc9d-79af2c8f57ec",
   "metadata": {},
   "outputs": [
    {
     "name": "stdout",
     "output_type": "stream",
     "text": [
      "{'a': 1, 'b': 2, 'c': 3, 'd': 4}\n"
     ]
    }
   ],
   "source": [
    "# 29. Write a code to combine two dictionaries into one and print the result.\n",
    "\n",
    "dict1 = {'a': 1, 'b': 2}\n",
    "dict2 = {'c': 3, 'd': 4}\n",
    "combined_dict = {**dict1, **dict2}\n",
    "print(combined_dict)"
   ]
  },
  {
   "cell_type": "code",
   "execution_count": 136,
   "id": "ae5c8405-ef8f-4175-94a7-c91dc90cf0ea",
   "metadata": {},
   "outputs": [
    {
     "name": "stdout",
     "output_type": "stream",
     "text": [
      "{'cherry', 'banana', 'apple'}\n"
     ]
    }
   ],
   "source": [
    "# 30. Write a code to convert a list of strings into a set.\n",
    "\n",
    "my_list = [\"apple\", \"banana\", \"cherry\", \"apple\", \"banana\"]\n",
    "print(set(my_list))"
   ]
  }
 ],
 "metadata": {
  "kernelspec": {
   "display_name": "Python 3 (ipykernel)",
   "language": "python",
   "name": "python3"
  },
  "language_info": {
   "codemirror_mode": {
    "name": "ipython",
    "version": 3
   },
   "file_extension": ".py",
   "mimetype": "text/x-python",
   "name": "python",
   "nbconvert_exporter": "python",
   "pygments_lexer": "ipython3",
   "version": "3.12.7"
  }
 },
 "nbformat": 4,
 "nbformat_minor": 5
}
